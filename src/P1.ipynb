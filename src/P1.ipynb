{
 "cells": [
  {
   "cell_type": "code",
   "execution_count": 20,
   "metadata": {},
   "outputs": [],
   "source": [
    "import pandas as pd\n",
    "import numpy as np\n",
    "import matplotlib.pyplot as plt\n",
    "import scipy.stats as stats"
   ]
  },
  {
   "cell_type": "markdown",
   "metadata": {},
   "source": [
    "# Question 1"
   ]
  },
  {
   "cell_type": "code",
   "execution_count": 33,
   "metadata": {},
   "outputs": [],
   "source": [
    "import dataloader_p1 as dt_p1"
   ]
  },
  {
   "cell_type": "code",
   "execution_count": 24,
   "metadata": {},
   "outputs": [
    {
     "name": "stdout",
     "output_type": "stream",
     "text": [
      "<class 'numpy.int64'>\n",
      "<class 'numpy.int64'>\n",
      "<class 'numpy.int64'>\n",
      "<class 'numpy.int64'>\n",
      "<class 'numpy.int64'>\n",
      "<class 'numpy.int64'>\n",
      "<class 'numpy.float64'>\n",
      "<class 'numpy.float64'>\n",
      "<class 'numpy.int64'>\n",
      "<class 'numpy.int64'>\n",
      "<class 'numpy.int64'>\n",
      "<class 'numpy.float64'>\n",
      "<class 'numpy.int64'>\n",
      "<class 'numpy.float64'>\n",
      "<class 'numpy.int64'>\n",
      "<class 'numpy.int64'>\n",
      "<class 'numpy.float64'>\n",
      "<class 'numpy.int64'>\n",
      "<class 'numpy.int64'>\n",
      "<class 'numpy.float64'>\n",
      "<class 'numpy.float64'>\n",
      "<class 'numpy.int64'>\n"
     ]
    }
   ],
   "source": [
    "for i in range(22):\n",
    "    print(type(dt_p1.mroz.iloc[1,i]))"
   ]
  },
  {
   "cell_type": "markdown",
   "metadata": {},
   "source": [
    "# Question 2"
   ]
  },
  {
   "cell_type": "markdown",
   "metadata": {},
   "source": [
    "## ensemble des femmes"
   ]
  },
  {
   "cell_type": "code",
   "execution_count": 103,
   "metadata": {},
   "outputs": [
    {
     "data": {
      "image/png": "[encoded data removed]",
      "text/plain": [
       "<Figure size 432x288 with 3 Axes>"
      ]
     },
     "metadata": {
      "needs_background": "light"
     },
     "output_type": "display_data"
    }
   ],
   "source": [
    "plt.subplot(131)\n",
    "plt.hist(dt_p1.wage,'auto',color = 'purple')\n",
    "plt.title('distribution of salaire of women')\n",
    "\n",
    "plt.subplot(132)\n",
    "plt.hist(dt_p1.age,'auto',color = 'purple')\n",
    "plt.title('distribution of age of women')\n",
    "\n",
    "plt.subplot(133)\n",
    "plt.hist(dt_p1.educ,'auto',color = 'purple')\n",
    "plt.title('distribution of education of women')\n",
    "plt.show()\n"
   ]
  },
  {
   "cell_type": "markdown",
   "metadata": {},
   "source": [
    "les statistiques descriptives du salaire pour l'ensemble des femmes"
   ]
  },
  {
   "cell_type": "code",
   "execution_count": 87,
   "metadata": {
    "scrolled": true
   },
   "outputs": [
    {
     "name": "stdout",
     "output_type": "stream",
     "text": [
      "The mean is :  4.177681542056075\n",
      "The median is :  3.4819\n",
      "The maximum is :  25.0\n",
      "The minimum is :  0.1282\n",
      "The standard deviation is :  3.3064129736891417\n",
      "The variance is :  10.932366752579874\n"
     ]
    }
   ],
   "source": [
    "print('The mean is : ', np.mean(dt_p1.wage))\n",
    "print('The median is : ', np.median(dt_p1.wage))\n",
    "print('The maximum is : ', np.max(dt_p1.wage))\n",
    "print('The minimum is : ', np.min(dt_p1.wage))\n",
    "print('The standard deviation is : ', np.std(dt_p1.wage))\n",
    "print('The variance is : ', np.var(dt_p1.wage))"
   ]
  },
  {
   "cell_type": "markdown",
   "metadata": {},
   "source": [
    "les statistiques descriptives de l'age pour l'ensemble des femmes"
   ]
  },
  {
   "cell_type": "code",
   "execution_count": 88,
   "metadata": {},
   "outputs": [
    {
     "name": "stdout",
     "output_type": "stream",
     "text": [
      "The mean is :  41.97196261682243\n",
      "The median is :  42.0\n",
      "The maximum is :  60\n",
      "The minimum is :  30\n",
      "The standard deviation is :  7.712058701745161\n",
      "The variance is :  59.47584941916327\n"
     ]
    }
   ],
   "source": [
    "print('The mean is : ', np.mean(dt_p1.age))\n",
    "print('The median is : ', np.median(dt_p1.age))\n",
    "print('The maximum is : ', np.max(dt_p1.age))\n",
    "print('The minimum is : ', np.min(dt_p1.age))\n",
    "print('The standard deviation is : ', np.std(dt_p1.age))\n",
    "print('The variance is : ', np.var(dt_p1.age))"
   ]
  },
  {
   "cell_type": "markdown",
   "metadata": {},
   "source": [
    "les statistiques descriptives de l'éducation pour l'ensemble des femmes"
   ]
  },
  {
   "cell_type": "code",
   "execution_count": 89,
   "metadata": {
    "scrolled": false
   },
   "outputs": [
    {
     "name": "stdout",
     "output_type": "stream",
     "text": [
      "The mean is :  12.658878504672897\n",
      "The median is :  12.0\n",
      "The maximum is :  17\n",
      "The minimum is :  5\n",
      "The standard deviation is :  2.28270430173602\n",
      "The variance is :  5.21073892916413\n"
     ]
    }
   ],
   "source": [
    "print('The mean is : ', np.mean(dt_p1.educ))\n",
    "print('The median is : ', np.median(dt_p1.educ))\n",
    "print('The maximum is : ', np.max(dt_p1.educ))\n",
    "print('The minimum is : ', np.min(dt_p1.educ))\n",
    "print('The standard deviation is : ', np.std(dt_p1.educ))\n",
    "print('The variance is : ', np.var(dt_p1.educ))"
   ]
  },
  {
   "cell_type": "markdown",
   "metadata": {},
   "source": [
    "## ensemble des femmes dont le salaire du mari est supérieure à la médiane de l’échantillon"
   ]
  },
  {
   "cell_type": "code",
   "execution_count": 77,
   "metadata": {},
   "outputs": [],
   "source": [
    "mediane_e = np.median(dt_p1.huswage)"
   ]
  },
  {
   "cell_type": "code",
   "execution_count": 81,
   "metadata": {},
   "outputs": [
    {
     "data": {
      "image/png": "[encoded data removed]",
      "text/plain": [
       "<Figure size 432x288 with 3 Axes>"
      ]
     },
     "metadata": {
      "needs_background": "light"
     },
     "output_type": "display_data"
    }
   ],
   "source": [
    "plt.subplot(131)\n",
    "plt.hist(dt_p1.wage[dt_p1.huswage>=mediane_e],'auto',color = 'r')\n",
    "plt.title('distribution of salaire of women with hasband salary higher than median')\n",
    "\n",
    "plt.subplot(132)\n",
    "plt.hist(dt_p1.age[dt_p1.huswage>=mediane_e],'auto',color = 'r')\n",
    "plt.title('distribution of age of women with hasband salary higher than median')\n",
    "\n",
    "plt.subplot(133)\n",
    "plt.hist(dt_p1.educ[dt_p1.huswage>=mediane_e],'auto',color = 'r')\n",
    "plt.title('distribution of education of women with hasband salary higher than median')\n",
    "plt.show()"
   ]
  },
  {
   "cell_type": "markdown",
   "metadata": {},
   "source": [
    "les statistiques descriptives du salaire pour l'ensemble des femmes dont le salaire du mari est supérieure à la médiane de l’échantillon"
   ]
  },
  {
   "cell_type": "code",
   "execution_count": 90,
   "metadata": {},
   "outputs": [
    {
     "name": "stdout",
     "output_type": "stream",
     "text": [
      "The mean is :  4.896822429906542\n",
      "The median is :  3.8464\n",
      "The maximum is :  25.0\n",
      "The minimum is :  0.1616\n",
      "The standard deviation is :  4.032151886865032\n",
      "The variance is :  16.258248838749235\n"
     ]
    }
   ],
   "source": [
    "print('The mean is : ', np.mean(dt_p1.wage[dt_p1.huswage>=mediane_e]))\n",
    "print('The median is : ', np.median(dt_p1.wage[dt_p1.huswage>=mediane_e]))\n",
    "print('The maximum is : ', np.max(dt_p1.wage[dt_p1.huswage>=mediane_e]))\n",
    "print('The minimum is : ', np.min(dt_p1.wage[dt_p1.huswage>=mediane_e]))\n",
    "print('The standard deviation is : ', np.std(dt_p1.wage[dt_p1.huswage>=mediane_e]))\n",
    "print('The variance is : ', np.var(dt_p1.wage[dt_p1.huswage>=mediane_e]))"
   ]
  },
  {
   "cell_type": "markdown",
   "metadata": {},
   "source": [
    "les statistiques descriptives de l'age pour l'ensemble des femmes dont le salaire du mari est supérieure à la médiane de l’échantillon"
   ]
  },
  {
   "cell_type": "code",
   "execution_count": 91,
   "metadata": {},
   "outputs": [
    {
     "name": "stdout",
     "output_type": "stream",
     "text": [
      "The mean is :  42.27570093457944\n",
      "The median is :  43.0\n",
      "The maximum is :  59\n",
      "The minimum is :  30\n",
      "The standard deviation is :  7.371558644217608\n",
      "The variance is :  54.339876845139344\n"
     ]
    }
   ],
   "source": [
    "print('The mean is : ', np.mean(dt_p1.age[dt_p1.huswage>=mediane_e]))\n",
    "print('The median is : ', np.median(dt_p1.age[dt_p1.huswage>=mediane_e]))\n",
    "print('The maximum is : ', np.max(dt_p1.age[dt_p1.huswage>=mediane_e]))\n",
    "print('The minimum is : ', np.min(dt_p1.age[dt_p1.huswage>=mediane_e]))\n",
    "print('The standard deviation is : ', np.std(dt_p1.age[dt_p1.huswage>=mediane_e]))\n",
    "print('The variance is : ', np.var(dt_p1.age[dt_p1.huswage>=mediane_e]))"
   ]
  },
  {
   "cell_type": "markdown",
   "metadata": {},
   "source": [
    "les statistiques descriptives de l'éducation pour l'ensemble des femmes dont le salaire du mari est supérieure à la médiane de l’échantillon"
   ]
  },
  {
   "cell_type": "code",
   "execution_count": 92,
   "metadata": {},
   "outputs": [
    {
     "name": "stdout",
     "output_type": "stream",
     "text": [
      "The mean is :  13.242990654205608\n",
      "The median is :  12.0\n",
      "The maximum is :  17\n",
      "The minimum is :  5\n",
      "The standard deviation is :  2.353526371870564\n",
      "The variance is :  5.539086383090221\n"
     ]
    }
   ],
   "source": [
    "print('The mean is : ', np.mean(dt_p1.educ[dt_p1.huswage>=mediane_e]))\n",
    "print('The median is : ', np.median(dt_p1.educ[dt_p1.huswage>=mediane_e]))\n",
    "print('The maximum is : ', np.max(dt_p1.educ[dt_p1.huswage>=mediane_e]))\n",
    "print('The minimum is : ', np.min(dt_p1.educ[dt_p1.huswage>=mediane_e]))\n",
    "print('The standard deviation is : ', np.std(dt_p1.educ[dt_p1.huswage>=mediane_e]))\n",
    "print('The variance is : ', np.var(dt_p1.educ[dt_p1.huswage>=mediane_e]))"
   ]
  },
  {
   "cell_type": "markdown",
   "metadata": {},
   "source": [
    "## ensemble des femmes dont le salaire du mari est inférieur à la médiane de l’échantillon"
   ]
  },
  {
   "cell_type": "code",
   "execution_count": 104,
   "metadata": {},
   "outputs": [
    {
     "data": {
      "image/png": "[encoded data removed]",
      "text/plain": [
       "<Figure size 432x288 with 3 Axes>"
      ]
     },
     "metadata": {
      "needs_background": "light"
     },
     "output_type": "display_data"
    }
   ],
   "source": [
    "plt.subplot(131)\n",
    "plt.hist(dt_p1.wage[dt_p1.huswage<mediane_e],'auto',color = 'b')\n",
    "plt.title('distribution of salaire of women with hasband salary lower than median')\n",
    "\n",
    "plt.subplot(132)\n",
    "plt.hist(dt_p1.age[dt_p1.huswage<mediane_e],'auto',color = 'b')\n",
    "plt.title('distribution of age of women with hasband salary lower than median')\n",
    "\n",
    "plt.subplot(133)\n",
    "plt.hist(dt_p1.educ[dt_p1.huswage<mediane_e],'auto',color = 'b')\n",
    "plt.title('distribution of education of women with hasband salary lower than median')\n",
    "plt.show()"
   ]
  },
  {
   "cell_type": "markdown",
   "metadata": {},
   "source": [
    "les statistiques descriptives du salaire pour l'ensemble des femmes dont le salaire du mari est inférieur à la médiane de l’échantillon"
   ]
  },
  {
   "cell_type": "code",
   "execution_count": 94,
   "metadata": {},
   "outputs": [
    {
     "name": "stdout",
     "output_type": "stream",
     "text": [
      "The mean is :  3.4585406542056094\n",
      "The median is :  2.9718\n",
      "The maximum is :  18.267\n",
      "The minimum is :  0.1282\n",
      "The standard deviation is :  2.1382603754579974\n",
      "The variance is :  4.572157433253777\n"
     ]
    }
   ],
   "source": [
    "print('The mean is : ', np.mean(dt_p1.wage[dt_p1.huswage<mediane_e]))\n",
    "print('The median is : ', np.median(dt_p1.wage[dt_p1.huswage<mediane_e]))\n",
    "print('The maximum is : ', np.max(dt_p1.wage[dt_p1.huswage<mediane_e]))\n",
    "print('The minimum is : ', np.min(dt_p1.wage[dt_p1.huswage<mediane_e]))\n",
    "print('The standard deviation is : ', np.std(dt_p1.wage[dt_p1.huswage<mediane_e]))\n",
    "print('The variance is : ', np.var(dt_p1.wage[dt_p1.huswage<mediane_e]))"
   ]
  },
  {
   "cell_type": "markdown",
   "metadata": {},
   "source": [
    "les statistiques descriptives du salaire pour l'age des femmes dont le salaire du mari est inférieur à la médiane de l’échantillon"
   ]
  },
  {
   "cell_type": "code",
   "execution_count": 95,
   "metadata": {},
   "outputs": [
    {
     "name": "stdout",
     "output_type": "stream",
     "text": [
      "The mean is :  41.66822429906542\n",
      "The median is :  41.0\n",
      "The maximum is :  60\n",
      "The minimum is :  30\n",
      "The standard deviation is :  8.026662323895247\n",
      "The variance is :  64.42730806183945\n"
     ]
    }
   ],
   "source": [
    "print('The mean is : ', np.mean(dt_p1.age[dt_p1.huswage<mediane_e]))\n",
    "print('The median is : ', np.median(dt_p1.age[dt_p1.huswage<mediane_e]))\n",
    "print('The maximum is : ', np.max(dt_p1.age[dt_p1.huswage<mediane_e]))\n",
    "print('The minimum is : ', np.min(dt_p1.age[dt_p1.huswage<mediane_e]))\n",
    "print('The standard deviation is : ', np.std(dt_p1.age[dt_p1.huswage<mediane_e]))\n",
    "print('The variance is : ', np.var(dt_p1.age[dt_p1.huswage<mediane_e]))"
   ]
  },
  {
   "cell_type": "markdown",
   "metadata": {},
   "source": [
    "les statistiques descriptives de l'éducation pour l'ensemble des femmes dont le salaire du mari est inférieur à la médiane de l’échantillon"
   ]
  },
  {
   "cell_type": "code",
   "execution_count": 97,
   "metadata": {},
   "outputs": [
    {
     "name": "stdout",
     "output_type": "stream",
     "text": [
      "The mean is :  12.074766355140186\n",
      "The median is :  12.0\n",
      "The maximum is :  17\n",
      "The minimum is :  6\n",
      "The standard deviation is :  2.0493944151320846\n",
      "The variance is :  4.20001746877458\n"
     ]
    }
   ],
   "source": [
    "print('The mean is : ', np.mean(dt_p1.educ[dt_p1.huswage<mediane_e]))\n",
    "print('The median is : ', np.median(dt_p1.educ[dt_p1.huswage<mediane_e]))\n",
    "print('The maximum is : ', np.max(dt_p1.educ[dt_p1.huswage<mediane_e]))\n",
    "print('The minimum is : ', np.min(dt_p1.educ[dt_p1.huswage<mediane_e]))\n",
    "print('The standard deviation is : ', np.std(dt_p1.educ[dt_p1.huswage<mediane_e]))\n",
    "print('The variance is : ', np.var(dt_p1.educ[dt_p1.huswage<mediane_e]))"
   ]
  },
  {
   "cell_type": "markdown",
   "metadata": {},
   "source": [
    "## Comparaison"
   ]
  },
  {
   "cell_type": "code",
   "execution_count": 117,
   "metadata": {},
   "outputs": [
    {
     "data": {
      "image/png": "[encoded data removed]",
      "text/plain": [
       "<Figure size 432x288 with 1 Axes>"
      ]
     },
     "metadata": {
      "needs_background": "light"
     },
     "output_type": "display_data"
    }
   ],
   "source": [
    "plt.hist(dt_p1.wage,'auto',color = 'purple',label='all', alpha = 0.25)\n",
    "plt.hist(dt_p1.wage[dt_p1.huswage>=mediane_e],'auto',color = 'r',label='higher husband salary', alpha = 0.5)\n",
    "plt.hist(dt_p1.wage[dt_p1.huswage<mediane_e],'auto',color = 'b',label='hlower husband salary', alpha = 0.5)\n",
    "plt.legend()\n",
    "plt.title('distribution of salaire of women')\n",
    "plt.show()"
   ]
  },
  {
   "cell_type": "code",
   "execution_count": 116,
   "metadata": {},
   "outputs": [
    {
     "data": {
      "image/png": "[encoded data removed]",
      "text/plain": [
       "<Figure size 432x288 with 1 Axes>"
      ]
     },
     "metadata": {
      "needs_background": "light"
     },
     "output_type": "display_data"
    }
   ],
   "source": [
    "plt.hist(dt_p1.age,'auto',color = 'purple',label='all', alpha = 0.25)\n",
    "plt.hist(dt_p1.age[dt_p1.huswage>=mediane_e],'auto',color = 'r',label='higher husband salary',alpha = 0.5)\n",
    "plt.hist(dt_p1.age[dt_p1.huswage<mediane_e],'auto',color = 'b',label='hlower husband salary', alpha = 0.5)\n",
    "plt.legend()\n",
    "plt.title('distribution of age of women')\n",
    "plt.show()"
   ]
  },
  {
   "cell_type": "code",
   "execution_count": 120,
   "metadata": {},
   "outputs": [
    {
     "data": {
      "image/png": "[encoded data removed]",
      "text/plain": [
       "<Figure size 432x288 with 1 Axes>"
      ]
     },
     "metadata": {
      "needs_background": "light"
     },
     "output_type": "display_data"
    }
   ],
   "source": [
    "plt.hist(dt_p1.educ,'auto',color = 'purple',label='all', alpha = 0.25)\n",
    "plt.hist(dt_p1.educ[dt_p1.huswage>=mediane_e],'auto',color = 'r',label='higher husband salary',alpha = 0.5)\n",
    "plt.hist(dt_p1.educ[dt_p1.huswage<mediane_e],'auto',color = 'b',label='hlower husband salary', alpha = 0.5)\n",
    "plt.legend()\n",
    "plt.title('distribution of education of women')\n",
    "plt.show()"
   ]
  },
  {
   "cell_type": "markdown",
   "metadata": {},
   "source": [
    "# Question 3"
   ]
  },
  {
   "cell_type": "code",
   "execution_count": 123,
   "metadata": {},
   "outputs": [
    {
     "data": {
      "image/png": "[encoded data removed]",
      "text/plain": [
       "<Figure size 432x288 with 1 Axes>"
      ]
     },
     "metadata": {
      "needs_background": "light"
     },
     "output_type": "display_data"
    }
   ],
   "source": [
    "plt.hist(dt_p1.wage,'auto')\n",
    "plt.title('histogram of women salary')\n",
    "plt.show()"
   ]
  },
  {
   "cell_type": "code",
   "execution_count": 122,
   "metadata": {},
   "outputs": [
    {
     "data": {
      "image/png": "[encoded data removed]",
      "text/plain": [
       "<Figure size 432x288 with 1 Axes>"
      ]
     },
     "metadata": {
      "needs_background": "light"
     },
     "output_type": "display_data"
    }
   ],
   "source": [
    "log_wage = np.log(dt_p1.wage)\n",
    "plt.hist(log_wage,'auto')\n",
    "plt.title('histogram of women salary in log')\n",
    "plt.show()"
   ]
  },
  {
   "cell_type": "markdown",
   "metadata": {},
   "source": [
    "Comment:\n",
    "\n",
    "By comparing these two figures, we see that the log-figure is denser, with a much smaller range of data. And the existence of some marginal data is fading in log-figure. The most important thigh for logarithm is that this operation does not change the relationship between variables. Besides, the log-figure resembles more to a normal distribution. Besides, in econometrics, the coefficient of variable in logarithmic form is its elasticity. Meanwhile, once the variable needs to be differentiated, the actual meaning of the logarithmic variable difference is the approximate growth rate."
   ]
  },
  {
   "cell_type": "markdown",
   "metadata": {},
   "source": [
    "# Question 4"
   ]
  },
  {
   "cell_type": "code",
   "execution_count": 126,
   "metadata": {},
   "outputs": [
    {
     "name": "stdout",
     "output_type": "stream",
     "text": [
      "[[1.         0.55406322]\n",
      " [0.55406322 1.        ]]\n"
     ]
    }
   ],
   "source": [
    "corr = np.corrcoef(dt_p1.motheduc, dt_p1.fatheduc)\n",
    "print(corr)"
   ]
  },
  {
   "cell_type": "markdown",
   "metadata": {},
   "source": [
    "Comments:\n",
    "    \n",
    "The correlation between mother's and father's years of schooling is approximately 0.55, which can be considered moderately correlated. Thus, when we use these two avriables as explanatory variables, we will not meet a serious problem of multicollinearity, at least far away from the perfect multicollinearity.\n",
    "\n",
    "// 这个我没有找到具体的值（＞此值则有共线问题，<则无的值），所以我在这里说不会出现严重的贡献问题，算是打了个马虎眼。"
   ]
  },
  {
   "cell_type": "markdown",
   "metadata": {},
   "source": [
    "# Question 5"
   ]
  },
  {
   "cell_type": "code",
   "execution_count": 141,
   "metadata": {},
   "outputs": [
    {
     "data": {
      "image/png": "[encoded data removed]",
      "text/plain": [
       "<Figure size 432x288 with 1 Axes>"
      ]
     },
     "metadata": {
      "needs_background": "light"
     },
     "output_type": "display_data"
    }
   ],
   "source": [
    "plt.scatter(dt_p1.wage, dt_p1.educ)\n",
    "plt.xlabel('wage')\n",
    "plt.ylabel('education year')\n",
    "plt.title('cloud map of wage & education')\n",
    "plt.show()"
   ]
  },
  {
   "cell_type": "code",
   "execution_count": 142,
   "metadata": {},
   "outputs": [
    {
     "data": {
      "image/png": "[encoded data removed]",
      "text/plain": [
       "<Figure size 432x288 with 1 Axes>"
      ]
     },
     "metadata": {
      "needs_background": "light"
     },
     "output_type": "display_data"
    }
   ],
   "source": [
    "plt.scatter(dt_p1.wage, dt_p1.exper)\n",
    "plt.xlabel('wage')\n",
    "plt.ylabel('work experience year')\n",
    "plt.title('cloud map of wage & experience')\n",
    "plt.show()"
   ]
  },
  {
   "cell_type": "code",
   "execution_count": 143,
   "metadata": {
    "scrolled": true
   },
   "outputs": [
    {
     "data": {
      "image/png": "[encoded data removed]",
      "text/plain": [
       "<Figure size 432x288 with 1 Axes>"
      ]
     },
     "metadata": {
      "needs_background": "light"
     },
     "output_type": "display_data"
    }
   ],
   "source": [
    "plt.scatter(dt_p1.wage, dt_p1.fatheduc)\n",
    "plt.xlabel('wage')\n",
    "plt.ylabel('father educcation year')\n",
    "plt.title('cloud map of wage & father education')\n",
    "plt.show()"
   ]
  },
  {
   "cell_type": "markdown",
   "metadata": {},
   "source": [
    "Comments:\n",
    "\n",
    "From the cloud maps, we can see that the wage is not closely connected to only one variable, neither education, experience, nor father education. We cannot simply predict one woman's salary by only looking at her education year/working experience/ father education year. This is not an effect of \"everything else being equal\", because apparently everything else is not equal. We didn't control the data to be only differed from only one variable listed above. Thus, although the cloud map shows that the relation between wage and other factors are not so close, we cannot conclude that these factors are not important, because we didn't control other varibles to be equal."
   ]
  },
  {
   "cell_type": "markdown",
   "metadata": {},
   "source": [
    "https://francoisculiere.com/2020/04/01/econometrie1.html"
   ]
  },
  {
   "cell_type": "markdown",
   "metadata": {},
   "source": [
    "# Question 6"
   ]
  },
  {
   "cell_type": "markdown",
   "metadata": {},
   "source": [
    "The fundamental assumption guaranteeing unbiased estimators is that the residuals $\\epsilon $ of the model are independent of the explanatory variables, which is to say :\n",
    "\n",
    "$$\n",
    "E(\\epsilon | X) = E(\\epsilon) = 0\n",
    "$$\n",
    "\n",
    "The omitted variable bias is to say that some variables that should be treated as explanatory variables, but are considered to be residuals in the model. It occurs when one of the explanatory variables is correlated both with the explained variable and with the residual that is not taken into account in the model. In this case, the fundamental assumption is no longer satisfied."
   ]
  }
 ],
 "metadata": {
  "interpreter": {
   "hash": "6f624cf1aed7b927ba57838723f60505130df0c4df4fa3d69693c7e5d450a61b"
  },
  "kernelspec": {
   "display_name": "Python 3",
   "language": "python",
   "name": "python3"
  },
  "language_info": {
   "codemirror_mode": {
    "name": "ipython",
    "version": 3
   },
   "file_extension": ".py",
   "mimetype": "text/x-python",
   "name": "python",
   "nbconvert_exporter": "python",
   "pygments_lexer": "ipython3",
   "version": "3.8.8"
  }
 },
 "nbformat": 4,
 "nbformat_minor": 2
}
