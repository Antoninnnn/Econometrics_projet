{
 "cells": [
  {
   "cell_type": "code",
   "execution_count": 1,
   "source": [
    "import pandas as pd\n",
    "import numpy as np\n",
    "import matplotlib.pyplot as plt\n",
    "import scipy.stats as stats"
   ],
   "outputs": [],
   "metadata": {}
  },
  {
   "cell_type": "code",
   "execution_count": 48,
   "source": [
    "from scipy.stats import t"
   ],
   "outputs": [],
   "metadata": {}
  },
  {
   "cell_type": "code",
   "execution_count": 67,
   "source": [
    "from  scipy.stats import f"
   ],
   "outputs": [],
   "metadata": {}
  },
  {
   "cell_type": "code",
   "execution_count": 43,
   "source": [
    "import seaborn as sns"
   ],
   "outputs": [],
   "metadata": {}
  },
  {
   "cell_type": "markdown",
   "source": [
    "# Question 1"
   ],
   "metadata": {}
  },
  {
   "cell_type": "code",
   "execution_count": 2,
   "source": [
    "import dataloader_p1 as dt_p1"
   ],
   "outputs": [],
   "metadata": {}
  },
  {
   "cell_type": "code",
   "execution_count": 3,
   "source": [
    "for i in range(22):\n",
    "    print(type(dt_p1.mroz.iloc[1,i]))"
   ],
   "outputs": [
    {
     "output_type": "stream",
     "name": "stdout",
     "text": [
      "<class 'numpy.int64'>\n",
      "<class 'numpy.int64'>\n",
      "<class 'numpy.int64'>\n",
      "<class 'numpy.int64'>\n",
      "<class 'numpy.int64'>\n",
      "<class 'numpy.int64'>\n",
      "<class 'numpy.float64'>\n",
      "<class 'numpy.float64'>\n",
      "<class 'numpy.int64'>\n",
      "<class 'numpy.int64'>\n",
      "<class 'numpy.int64'>\n",
      "<class 'numpy.float64'>\n",
      "<class 'numpy.int64'>\n",
      "<class 'numpy.float64'>\n",
      "<class 'numpy.int64'>\n",
      "<class 'numpy.int64'>\n",
      "<class 'numpy.float64'>\n",
      "<class 'numpy.int64'>\n",
      "<class 'numpy.int64'>\n",
      "<class 'numpy.float64'>\n",
      "<class 'numpy.float64'>\n",
      "<class 'numpy.int64'>\n"
     ]
    }
   ],
   "metadata": {}
  },
  {
   "cell_type": "markdown",
   "source": [
    "# Question 2"
   ],
   "metadata": {}
  },
  {
   "cell_type": "markdown",
   "source": [
    "## ensemble des femmes"
   ],
   "metadata": {}
  },
  {
   "cell_type": "code",
   "execution_count": 4,
   "source": [
    "plt.subplot(131)\n",
    "plt.hist(dt_p1.wage,'auto',color = 'purple')\n",
    "plt.title('distribution of salaire of women')\n",
    "\n",
    "plt.subplot(132)\n",
    "plt.hist(dt_p1.age,'auto',color = 'purple')\n",
    "plt.title('distribution of age of women')\n",
    "\n",
    "plt.subplot(133)\n",
    "plt.hist(dt_p1.educ,'auto',color = 'purple')\n",
    "plt.title('distribution of education of women')\n",
    "plt.show()\n"
   ],
   "outputs": [
    {
     "output_type": "display_data",
     "data": {
      "image/png": "[encoded data removed]",
      "text/plain": [
       "<Figure size 432x288 with 3 Axes>"
      ]
     },
     "metadata": {
      "needs_background": "light"
     }
    }
   ],
   "metadata": {}
  },
  {
   "cell_type": "markdown",
   "source": [
    "les statistiques descriptives du salaire pour l'ensemble des femmes"
   ],
   "metadata": {}
  },
  {
   "cell_type": "code",
   "execution_count": 5,
   "source": [
    "print('The mean is : ', np.mean(dt_p1.wage))\n",
    "print('The median is : ', np.median(dt_p1.wage))\n",
    "print('The maximum is : ', np.max(dt_p1.wage))\n",
    "print('The minimum is : ', np.min(dt_p1.wage))\n",
    "print('The standard deviation is : ', np.std(dt_p1.wage))\n",
    "print('The variance is : ', np.var(dt_p1.wage))"
   ],
   "outputs": [
    {
     "output_type": "stream",
     "name": "stdout",
     "text": [
      "The mean is :  4.177681542056075\n",
      "The median is :  3.4819\n",
      "The maximum is :  25.0\n",
      "The minimum is :  0.1282\n",
      "The standard deviation is :  3.3064129736891417\n",
      "The variance is :  10.932366752579874\n"
     ]
    }
   ],
   "metadata": {
    "scrolled": true
   }
  },
  {
   "cell_type": "markdown",
   "source": [
    "les statistiques descriptives de l'age pour l'ensemble des femmes"
   ],
   "metadata": {}
  },
  {
   "cell_type": "code",
   "execution_count": 6,
   "source": [
    "print('The mean is : ', np.mean(dt_p1.age))\n",
    "print('The median is : ', np.median(dt_p1.age))\n",
    "print('The maximum is : ', np.max(dt_p1.age))\n",
    "print('The minimum is : ', np.min(dt_p1.age))\n",
    "print('The standard deviation is : ', np.std(dt_p1.age))\n",
    "print('The variance is : ', np.var(dt_p1.age))"
   ],
   "outputs": [
    {
     "output_type": "stream",
     "name": "stdout",
     "text": [
      "The mean is :  41.97196261682243\n",
      "The median is :  42.0\n",
      "The maximum is :  60\n",
      "The minimum is :  30\n",
      "The standard deviation is :  7.712058701745161\n",
      "The variance is :  59.47584941916327\n"
     ]
    }
   ],
   "metadata": {}
  },
  {
   "cell_type": "markdown",
   "source": [
    "les statistiques descriptives de l'éducation pour l'ensemble des femmes"
   ],
   "metadata": {}
  },
  {
   "cell_type": "code",
   "execution_count": 7,
   "source": [
    "print('The mean is : ', np.mean(dt_p1.educ))\n",
    "print('The median is : ', np.median(dt_p1.educ))\n",
    "print('The maximum is : ', np.max(dt_p1.educ))\n",
    "print('The minimum is : ', np.min(dt_p1.educ))\n",
    "print('The standard deviation is : ', np.std(dt_p1.educ))\n",
    "print('The variance is : ', np.var(dt_p1.educ))"
   ],
   "outputs": [
    {
     "output_type": "stream",
     "name": "stdout",
     "text": [
      "The mean is :  12.658878504672897\n",
      "The median is :  12.0\n",
      "The maximum is :  17\n",
      "The minimum is :  5\n",
      "The standard deviation is :  2.28270430173602\n",
      "The variance is :  5.21073892916413\n"
     ]
    }
   ],
   "metadata": {
    "scrolled": false
   }
  },
  {
   "cell_type": "markdown",
   "source": [
    "## ensemble des femmes dont le salaire du mari est supérieure à la médiane de l’échantillon"
   ],
   "metadata": {}
  },
  {
   "cell_type": "code",
   "execution_count": 8,
   "source": [
    "mediane_e = np.median(dt_p1.huswage)"
   ],
   "outputs": [],
   "metadata": {}
  },
  {
   "cell_type": "code",
   "execution_count": 9,
   "source": [
    "plt.subplot(131)\n",
    "plt.hist(dt_p1.wage[dt_p1.huswage>=mediane_e],'auto',color = 'r')\n",
    "plt.title('distribution of salaire of women with hasband salary higher than median')\n",
    "\n",
    "plt.subplot(132)\n",
    "plt.hist(dt_p1.age[dt_p1.huswage>=mediane_e],'auto',color = 'r')\n",
    "plt.title('distribution of age of women with hasband salary higher than median')\n",
    "\n",
    "plt.subplot(133)\n",
    "plt.hist(dt_p1.educ[dt_p1.huswage>=mediane_e],'auto',color = 'r')\n",
    "plt.title('distribution of education of women with hasband salary higher than median')\n",
    "plt.show()"
   ],
   "outputs": [
    {
     "output_type": "display_data",
     "data": {
      "image/png": "[encoded data removed]",
      "text/plain": [
       "<Figure size 432x288 with 3 Axes>"
      ]
     },
     "metadata": {
      "needs_background": "light"
     }
    }
   ],
   "metadata": {}
  },
  {
   "cell_type": "markdown",
   "source": [
    "les statistiques descriptives du salaire pour l'ensemble des femmes dont le salaire du mari est supérieure à la médiane de l’échantillon"
   ],
   "metadata": {}
  },
  {
   "cell_type": "code",
   "execution_count": 10,
   "source": [
    "print('The mean is : ', np.mean(dt_p1.wage[dt_p1.huswage>=mediane_e]))\n",
    "print('The median is : ', np.median(dt_p1.wage[dt_p1.huswage>=mediane_e]))\n",
    "print('The maximum is : ', np.max(dt_p1.wage[dt_p1.huswage>=mediane_e]))\n",
    "print('The minimum is : ', np.min(dt_p1.wage[dt_p1.huswage>=mediane_e]))\n",
    "print('The standard deviation is : ', np.std(dt_p1.wage[dt_p1.huswage>=mediane_e]))\n",
    "print('The variance is : ', np.var(dt_p1.wage[dt_p1.huswage>=mediane_e]))"
   ],
   "outputs": [
    {
     "output_type": "stream",
     "name": "stdout",
     "text": [
      "The mean is :  4.896822429906542\n",
      "The median is :  3.8464\n",
      "The maximum is :  25.0\n",
      "The minimum is :  0.1616\n",
      "The standard deviation is :  4.032151886865032\n",
      "The variance is :  16.25824883874924\n"
     ]
    }
   ],
   "metadata": {}
  },
  {
   "cell_type": "markdown",
   "source": [
    "les statistiques descriptives de l'age pour l'ensemble des femmes dont le salaire du mari est supérieure à la médiane de l’échantillon"
   ],
   "metadata": {}
  },
  {
   "cell_type": "code",
   "execution_count": 11,
   "source": [
    "print('The mean is : ', np.mean(dt_p1.age[dt_p1.huswage>=mediane_e]))\n",
    "print('The median is : ', np.median(dt_p1.age[dt_p1.huswage>=mediane_e]))\n",
    "print('The maximum is : ', np.max(dt_p1.age[dt_p1.huswage>=mediane_e]))\n",
    "print('The minimum is : ', np.min(dt_p1.age[dt_p1.huswage>=mediane_e]))\n",
    "print('The standard deviation is : ', np.std(dt_p1.age[dt_p1.huswage>=mediane_e]))\n",
    "print('The variance is : ', np.var(dt_p1.age[dt_p1.huswage>=mediane_e]))"
   ],
   "outputs": [
    {
     "output_type": "stream",
     "name": "stdout",
     "text": [
      "The mean is :  42.27570093457944\n",
      "The median is :  43.0\n",
      "The maximum is :  59\n",
      "The minimum is :  30\n",
      "The standard deviation is :  7.371558644217608\n",
      "The variance is :  54.339876845139344\n"
     ]
    }
   ],
   "metadata": {}
  },
  {
   "cell_type": "markdown",
   "source": [
    "les statistiques descriptives de l'éducation pour l'ensemble des femmes dont le salaire du mari est supérieure à la médiane de l’échantillon"
   ],
   "metadata": {}
  },
  {
   "cell_type": "code",
   "execution_count": 12,
   "source": [
    "print('The mean is : ', np.mean(dt_p1.educ[dt_p1.huswage>=mediane_e]))\n",
    "print('The median is : ', np.median(dt_p1.educ[dt_p1.huswage>=mediane_e]))\n",
    "print('The maximum is : ', np.max(dt_p1.educ[dt_p1.huswage>=mediane_e]))\n",
    "print('The minimum is : ', np.min(dt_p1.educ[dt_p1.huswage>=mediane_e]))\n",
    "print('The standard deviation is : ', np.std(dt_p1.educ[dt_p1.huswage>=mediane_e]))\n",
    "print('The variance is : ', np.var(dt_p1.educ[dt_p1.huswage>=mediane_e]))"
   ],
   "outputs": [
    {
     "output_type": "stream",
     "name": "stdout",
     "text": [
      "The mean is :  13.242990654205608\n",
      "The median is :  12.0\n",
      "The maximum is :  17\n",
      "The minimum is :  5\n",
      "The standard deviation is :  2.353526371870564\n",
      "The variance is :  5.539086383090221\n"
     ]
    }
   ],
   "metadata": {}
  },
  {
   "cell_type": "markdown",
   "source": [
    "## ensemble des femmes dont le salaire du mari est inférieur à la médiane de l’échantillon"
   ],
   "metadata": {}
  },
  {
   "cell_type": "code",
   "execution_count": 13,
   "source": [
    "plt.subplot(131)\n",
    "plt.hist(dt_p1.wage[dt_p1.huswage<mediane_e],'auto',color = 'b')\n",
    "plt.title('distribution of salaire of women with hasband salary lower than median')\n",
    "\n",
    "plt.subplot(132)\n",
    "plt.hist(dt_p1.age[dt_p1.huswage<mediane_e],'auto',color = 'b')\n",
    "plt.title('distribution of age of women with hasband salary lower than median')\n",
    "\n",
    "plt.subplot(133)\n",
    "plt.hist(dt_p1.educ[dt_p1.huswage<mediane_e],'auto',color = 'b')\n",
    "plt.title('distribution of education of women with hasband salary lower than median')\n",
    "plt.show()"
   ],
   "outputs": [
    {
     "output_type": "display_data",
     "data": {
      "image/png": "[encoded data removed]",
      "text/plain": [
       "<Figure size 432x288 with 3 Axes>"
      ]
     },
     "metadata": {
      "needs_background": "light"
     }
    }
   ],
   "metadata": {}
  },
  {
   "cell_type": "markdown",
   "source": [
    "les statistiques descriptives du salaire pour l'ensemble des femmes dont le salaire du mari est inférieur à la médiane de l’échantillon"
   ],
   "metadata": {}
  },
  {
   "cell_type": "code",
   "execution_count": 14,
   "source": [
    "print('The mean is : ', np.mean(dt_p1.wage[dt_p1.huswage<mediane_e]))\n",
    "print('The median is : ', np.median(dt_p1.wage[dt_p1.huswage<mediane_e]))\n",
    "print('The maximum is : ', np.max(dt_p1.wage[dt_p1.huswage<mediane_e]))\n",
    "print('The minimum is : ', np.min(dt_p1.wage[dt_p1.huswage<mediane_e]))\n",
    "print('The standard deviation is : ', np.std(dt_p1.wage[dt_p1.huswage<mediane_e]))\n",
    "print('The variance is : ', np.var(dt_p1.wage[dt_p1.huswage<mediane_e]))"
   ],
   "outputs": [
    {
     "output_type": "stream",
     "name": "stdout",
     "text": [
      "The mean is :  3.4585406542056094\n",
      "The median is :  2.9718\n",
      "The maximum is :  18.267\n",
      "The minimum is :  0.1282\n",
      "The standard deviation is :  2.1382603754579974\n",
      "The variance is :  4.572157433253777\n"
     ]
    }
   ],
   "metadata": {}
  },
  {
   "cell_type": "markdown",
   "source": [
    "les statistiques descriptives du salaire pour l'age des femmes dont le salaire du mari est inférieur à la médiane de l’échantillon."
   ],
   "metadata": {}
  },
  {
   "cell_type": "code",
   "execution_count": 15,
   "source": [
    "print('The mean is : ', np.mean(dt_p1.age[dt_p1.huswage<mediane_e]))\n",
    "print('The median is : ', np.median(dt_p1.age[dt_p1.huswage<mediane_e]))\n",
    "print('The maximum is : ', np.max(dt_p1.age[dt_p1.huswage<mediane_e]))\n",
    "print('The minimum is : ', np.min(dt_p1.age[dt_p1.huswage<mediane_e]))\n",
    "print('The standard deviation is : ', np.std(dt_p1.age[dt_p1.huswage<mediane_e]))\n",
    "print('The variance is : ', np.var(dt_p1.age[dt_p1.huswage<mediane_e]))"
   ],
   "outputs": [
    {
     "output_type": "stream",
     "name": "stdout",
     "text": [
      "The mean is :  41.66822429906542\n",
      "The median is :  41.0\n",
      "The maximum is :  60\n",
      "The minimum is :  30\n",
      "The standard deviation is :  8.026662323895247\n",
      "The variance is :  64.42730806183945\n"
     ]
    }
   ],
   "metadata": {}
  },
  {
   "cell_type": "markdown",
   "source": [
    "les statistiques descriptives de l'éducation pour l'ensemble des femmes dont le salaire du mari est inférieur à la médiane de l’échantillon"
   ],
   "metadata": {}
  },
  {
   "cell_type": "code",
   "execution_count": 16,
   "source": [
    "print('The mean is : ', np.mean(dt_p1.educ[dt_p1.huswage<mediane_e]))\n",
    "print('The median is : ', np.median(dt_p1.educ[dt_p1.huswage<mediane_e]))\n",
    "print('The maximum is : ', np.max(dt_p1.educ[dt_p1.huswage<mediane_e]))\n",
    "print('The minimum is : ', np.min(dt_p1.educ[dt_p1.huswage<mediane_e]))\n",
    "print('The standard deviation is : ', np.std(dt_p1.educ[dt_p1.huswage<mediane_e]))\n",
    "print('The variance is : ', np.var(dt_p1.educ[dt_p1.huswage<mediane_e]))"
   ],
   "outputs": [
    {
     "output_type": "stream",
     "name": "stdout",
     "text": [
      "The mean is :  12.074766355140186\n",
      "The median is :  12.0\n",
      "The maximum is :  17\n",
      "The minimum is :  6\n",
      "The standard deviation is :  2.0493944151320846\n",
      "The variance is :  4.20001746877458\n"
     ]
    }
   ],
   "metadata": {}
  },
  {
   "cell_type": "markdown",
   "source": [
    "## Comparaison"
   ],
   "metadata": {}
  },
  {
   "cell_type": "code",
   "execution_count": 17,
   "source": [
    "plt.hist(dt_p1.wage,'auto',color = 'purple',label='all', alpha = 0.25)\n",
    "plt.hist(dt_p1.wage[dt_p1.huswage>=mediane_e],'auto',color = 'r',label='higher husband salary', alpha = 0.5)\n",
    "plt.hist(dt_p1.wage[dt_p1.huswage<mediane_e],'auto',color = 'b',label='hlower husband salary', alpha = 0.5)\n",
    "plt.legend()\n",
    "plt.title('distribution of salaire of women')\n",
    "plt.show()"
   ],
   "outputs": [
    {
     "output_type": "display_data",
     "data": {
      "image/png": "[encoded data removed]",
      "text/plain": [
       "<Figure size 432x288 with 1 Axes>"
      ]
     },
     "metadata": {
      "needs_background": "light"
     }
    }
   ],
   "metadata": {}
  },
  {
   "cell_type": "code",
   "execution_count": 18,
   "source": [
    "plt.hist(dt_p1.age,'auto',color = 'purple',label='all', alpha = 0.25)\n",
    "plt.hist(dt_p1.age[dt_p1.huswage>=mediane_e],'auto',color = 'r',label='higher husband salary',alpha = 0.5)\n",
    "plt.hist(dt_p1.age[dt_p1.huswage<mediane_e],'auto',color = 'b',label='hlower husband salary', alpha = 0.5)\n",
    "plt.legend()\n",
    "plt.title('distribution of age of women')\n",
    "plt.show()"
   ],
   "outputs": [
    {
     "output_type": "display_data",
     "data": {
      "image/png": "[encoded data removed]",
      "text/plain": [
       "<Figure size 432x288 with 1 Axes>"
      ]
     },
     "metadata": {
      "needs_background": "light"
     }
    }
   ],
   "metadata": {}
  },
  {
   "cell_type": "code",
   "execution_count": 19,
   "source": [
    "plt.hist(dt_p1.educ,'auto',color = 'purple',label='all', alpha = 0.25)\n",
    "plt.hist(dt_p1.educ[dt_p1.huswage>=mediane_e],'auto',color = 'r',label='higher husband salary',alpha = 0.5)\n",
    "plt.hist(dt_p1.educ[dt_p1.huswage<mediane_e],'auto',color = 'b',label='hlower husband salary', alpha = 0.5)\n",
    "plt.legend()\n",
    "plt.title('distribution of education of women')\n",
    "plt.show()"
   ],
   "outputs": [
    {
     "output_type": "display_data",
     "data": {
      "image/png": "[encoded data removed]",
      "text/plain": [
       "<Figure size 432x288 with 1 Axes>"
      ]
     },
     "metadata": {
      "needs_background": "light"
     }
    }
   ],
   "metadata": {}
  },
  {
   "cell_type": "markdown",
   "source": [
    "# Question 3"
   ],
   "metadata": {}
  },
  {
   "cell_type": "code",
   "execution_count": 20,
   "source": [
    "plt.hist(dt_p1.wage,'auto')\n",
    "plt.title('histogram of women salary')\n",
    "plt.show()"
   ],
   "outputs": [
    {
     "output_type": "display_data",
     "data": {
      "image/png": "[encoded data removed]",
      "text/plain": [
       "<Figure size 432x288 with 1 Axes>"
      ]
     },
     "metadata": {
      "needs_background": "light"
     }
    }
   ],
   "metadata": {}
  },
  {
   "cell_type": "code",
   "execution_count": 21,
   "source": [
    "log_wage = np.log(dt_p1.wage)\n",
    "plt.hist(log_wage,'auto')\n",
    "plt.title('histogram of women salary in log')\n",
    "plt.show()"
   ],
   "outputs": [
    {
     "output_type": "display_data",
     "data": {
      "image/png": "[encoded data removed]",
      "text/plain": [
       "<Figure size 432x288 with 1 Axes>"
      ]
     },
     "metadata": {
      "needs_background": "light"
     }
    }
   ],
   "metadata": {}
  },
  {
   "cell_type": "markdown",
   "source": [
    "Comment:\n",
    "\n",
    "By comparing these two figures, we see that the log-figure is denser, with a much smaller range of data. And the existence of some marginal data is fading in log-figure. The most important thigh for logarithm is that this operation does not change the relationship between variables. Besides, the log-figure resembles more to a normal distribution. Besides, in econometrics, the coefficient of variable in logarithmic form is its elasticity. Meanwhile, once the variable needs to be differentiated, the actual meaning of the logarithmic variable difference is the approximate growth rate."
   ],
   "metadata": {}
  },
  {
   "cell_type": "markdown",
   "source": [
    "# Question 4"
   ],
   "metadata": {}
  },
  {
   "cell_type": "code",
   "execution_count": 22,
   "source": [
    "corr = np.corrcoef(dt_p1.motheduc, dt_p1.fatheduc)\n",
    "print(corr)"
   ],
   "outputs": [
    {
     "output_type": "stream",
     "name": "stdout",
     "text": [
      "[[1.         0.55406322]\n",
      " [0.55406322 1.        ]]\n"
     ]
    }
   ],
   "metadata": {}
  },
  {
   "cell_type": "markdown",
   "source": [
    "Comments:\n",
    "    \n",
    "The correlation between mother's and father's years of schooling is approximately 0.55, which can be considered moderately correlated. Thus, when we use these two avriables as explanatory variables, we will not meet a serious problem of multicollinearity, at least far away from the perfect multicollinearity.\n",
    "\n",
    "// 这个我没有找到具体的值（＞此值则有共线问题，<则无的值），所以我在这里说不会出现严重的问题，算是打了个马虎眼。"
   ],
   "metadata": {}
  },
  {
   "cell_type": "markdown",
   "source": [
    "# Question 5"
   ],
   "metadata": {}
  },
  {
   "cell_type": "code",
   "execution_count": 23,
   "source": [
    "plt.scatter(dt_p1.wage, dt_p1.educ)\n",
    "plt.xlabel('wage')\n",
    "plt.ylabel('education year')\n",
    "plt.title('cloud map of wage & education')\n",
    "plt.show()"
   ],
   "outputs": [
    {
     "output_type": "display_data",
     "data": {
      "image/png": "[encoded data removed]",
      "text/plain": [
       "<Figure size 432x288 with 1 Axes>"
      ]
     },
     "metadata": {
      "needs_background": "light"
     }
    }
   ],
   "metadata": {}
  },
  {
   "cell_type": "code",
   "execution_count": 24,
   "source": [
    "plt.scatter(dt_p1.wage, dt_p1.exper)\n",
    "plt.xlabel('wage')\n",
    "plt.ylabel('work experience year')\n",
    "plt.title('cloud map of wage & experience')\n",
    "plt.show()"
   ],
   "outputs": [
    {
     "output_type": "display_data",
     "data": {
      "image/png": "[encoded data removed]",
      "text/plain": [
       "<Figure size 432x288 with 1 Axes>"
      ]
     },
     "metadata": {
      "needs_background": "light"
     }
    }
   ],
   "metadata": {}
  },
  {
   "cell_type": "code",
   "execution_count": 25,
   "source": [
    "plt.scatter(dt_p1.wage, dt_p1.fatheduc)\n",
    "plt.xlabel('wage')\n",
    "plt.ylabel('father educcation year')\n",
    "plt.title('cloud map of wage & father education')\n",
    "plt.show()"
   ],
   "outputs": [
    {
     "output_type": "display_data",
     "data": {
      "image/png": "[encoded data removed]",
      "text/plain": [
       "<Figure size 432x288 with 1 Axes>"
      ]
     },
     "metadata": {
      "needs_background": "light"
     }
    }
   ],
   "metadata": {
    "scrolled": true
   }
  },
  {
   "cell_type": "markdown",
   "source": [
    "Comments:\n",
    "\n",
    "From the cloud maps, we can see that the wage is not closely connected to only one variable, neither education, experience, nor father education. We cannot simply predict one woman's salary by only looking at her education year/working experience/ father education year. This is not an effect of \"everything else being equal\", because apparently everything else is not equal. We didn't control the data to be only differed from only one variable listed above. Thus, although the cloud map shows that the relation between wage and other factors are not so close, we cannot conclude that these factors are not important, because we didn't control other varibles to be equal."
   ],
   "metadata": {}
  },
  {
   "cell_type": "markdown",
   "source": [
    "https://francoisculiere.com/2020/04/01/econometrie1.html"
   ],
   "metadata": {}
  },
  {
   "cell_type": "markdown",
   "source": [
    "# Question 6"
   ],
   "metadata": {}
  },
  {
   "cell_type": "markdown",
   "source": [
    "The fundamental assumption guaranteeing unbiased estimators is that the residuals $\\epsilon $ of the model are independent of the explanatory variables, which is to say :\n",
    "\n",
    "$$\n",
    "E(\\epsilon | X) = E(\\epsilon) = 0\n",
    "$$\n",
    "\n",
    "The omitted variable bias is to say that some variables that should be treated as explanatory variables, but are considered to be residuals in the model. It occurs when one of the explanatory variables is correlated both with the explained variable and with the residual that is not taken into account in the model. In this case, the fundamental assumption is no longer satisfied."
   ],
   "metadata": {}
  },
  {
   "cell_type": "markdown",
   "source": [],
   "metadata": {}
  },
  {
   "cell_type": "markdown",
   "source": [
    "# Question 7"
   ],
   "metadata": {}
  },
  {
   "cell_type": "code",
   "execution_count": 26,
   "source": [
    "def linear_reg(X,y):\n",
    "  beta = np.linalg.inv(X.T @ X)@X.T@y\n",
    "  u=y-X@beta\n",
    "  n,k = np.shape(X)\n",
    "  sig2=u.T@u/(n-k)\n",
    "  Var=sig2*np.linalg.inv(X.T @ X) \n",
    "  std=np.sqrt(np.diag(Var))\n",
    "  return beta, u , sig2, Var, std"
   ],
   "outputs": [],
   "metadata": {}
  },
  {
   "cell_type": "code",
   "execution_count": 35,
   "source": [
    "y = dt_p1.wage\n",
    "const = np.ones(np.shape(y))\n",
    "X=np.column_stack((const, dt_p1.city, dt_p1.educ,dt_p1.exper, dt_p1.nwifeinc,dt_p1.kidslt6,dt_p1.kidsgt6))"
   ],
   "outputs": [],
   "metadata": {}
  },
  {
   "cell_type": "code",
   "execution_count": 31,
   "source": [
    "beta_7, u_7, sig2_7, Var_7, std_7 = linear_reg(X,y)"
   ],
   "outputs": [],
   "metadata": {}
  },
  {
   "cell_type": "code",
   "execution_count": 33,
   "source": [
    "plt.hist(u_7,'auto')\n",
    "plt.ylabel('cumulative number')\n",
    "plt.xlabel('erreur')\n",
    "plt.title('erreur')\n",
    "plt.show()"
   ],
   "outputs": [
    {
     "output_type": "display_data",
     "data": {
      "image/png": "[encoded data removed]",
      "text/plain": [
       "<Figure size 432x288 with 1 Axes>"
      ]
     },
     "metadata": {
      "needs_background": "light"
     }
    }
   ],
   "metadata": {}
  },
  {
   "cell_type": "markdown",
   "source": [
    "# Question 8"
   ],
   "metadata": {}
  },
  {
   "cell_type": "code",
   "execution_count": 139,
   "source": [
    "logy = dt_p1.lwage\n",
    "const = np.ones(np.shape(logy))\n",
    "\n",
    "X=np.column_stack((const, dt_p1.city, dt_p1.educ,dt_p1.exper, dt_p1.nwifeinc,dt_p1.kidslt6,dt_p1.kidsgt6))"
   ],
   "outputs": [],
   "metadata": {}
  },
  {
   "cell_type": "code",
   "execution_count": 140,
   "source": [
    "beta_8, u_8, sig2_8, Var_8, std_8 = linear_reg(X,logy)"
   ],
   "outputs": [],
   "metadata": {}
  },
  {
   "cell_type": "code",
   "execution_count": 141,
   "source": [
    "u_8.T@u_8"
   ],
   "outputs": [
    {
     "output_type": "execute_result",
     "data": {
      "text/plain": [
       "188.58969243996304"
      ]
     },
     "metadata": {},
     "execution_count": 141
    }
   ],
   "metadata": {}
  },
  {
   "cell_type": "code",
   "execution_count": 39,
   "source": [
    "plt.hist(u_8,'auto')\n",
    "plt.ylabel('cumulative number')\n",
    "plt.xlabel('erreur')\n",
    "plt.title('erreur')\n",
    "plt.show()"
   ],
   "outputs": [
    {
     "output_type": "display_data",
     "data": {
      "image/png": "[encoded data removed]",
      "text/plain": [
       "<Figure size 432x288 with 1 Axes>"
      ]
     },
     "metadata": {
      "needs_background": "light"
     }
    }
   ],
   "metadata": {}
  },
  {
   "cell_type": "code",
   "execution_count": 42,
   "source": [
    "std_8"
   ],
   "outputs": [
    {
     "output_type": "execute_result",
     "data": {
      "text/plain": [
       "array([0.20705018, 0.07017804, 0.0151019 , 0.00448701, 0.00333084,\n",
       "       0.08530778, 0.02694438])"
      ]
     },
     "metadata": {},
     "execution_count": 42
    }
   ],
   "metadata": {}
  },
  {
   "cell_type": "markdown",
   "source": [
    "If we use the libarary statsmodels, we could immediately get the results of regression as follows. "
   ],
   "metadata": {}
  },
  {
   "cell_type": "code",
   "execution_count": 40,
   "source": [
    "import statsmodels.api as sm \n",
    "model=sm.OLS(logy,X)\n",
    "results = model.fit()\n",
    "print(results.summary())"
   ],
   "outputs": [
    {
     "output_type": "stream",
     "name": "stdout",
     "text": [
      "                            OLS Regression Results                            \n",
      "==============================================================================\n",
      "Dep. Variable:                      6   R-squared:                       0.156\n",
      "Model:                            OLS   Adj. R-squared:                  0.144\n",
      "Method:                 Least Squares   F-statistic:                     12.92\n",
      "Date:                Tue, 16 Nov 2021   Prob (F-statistic):           2.00e-13\n",
      "Time:                        21:21:42   Log-Likelihood:                -431.92\n",
      "No. Observations:                 428   AIC:                             877.8\n",
      "Df Residuals:                     421   BIC:                             906.3\n",
      "Df Model:                           6                                         \n",
      "Covariance Type:            nonrobust                                         \n",
      "==============================================================================\n",
      "                 coef    std err          t      P>|t|      [0.025      0.975]\n",
      "------------------------------------------------------------------------------\n",
      "const         -0.3990      0.207     -1.927      0.055      -0.806       0.008\n",
      "x1             0.0353      0.070      0.503      0.616      -0.103       0.173\n",
      "x2             0.1022      0.015      6.770      0.000       0.073       0.132\n",
      "x3             0.0155      0.004      3.452      0.001       0.007       0.024\n",
      "x4             0.0049      0.003      1.466      0.143      -0.002       0.011\n",
      "x5            -0.0453      0.085     -0.531      0.596      -0.213       0.122\n",
      "x6            -0.0117      0.027     -0.434      0.664      -0.065       0.041\n",
      "==============================================================================\n",
      "Omnibus:                       79.542   Durbin-Watson:                   1.979\n",
      "Prob(Omnibus):                  0.000   Jarque-Bera (JB):              287.192\n",
      "Skew:                          -0.795   Prob(JB):                     4.34e-63\n",
      "Kurtosis:                       6.685   Cond. No.                         178.\n",
      "==============================================================================\n",
      "\n",
      "Warnings:\n",
      "[1] Standard Errors assume that the covariance matrix of the errors is correctly specified.\n"
     ]
    }
   ],
   "metadata": {}
  },
  {
   "cell_type": "code",
   "execution_count": 44,
   "source": [
    "plt.figure(figsize=(7, 4))\n",
    "sns.distplot(results.resid)\n",
    "plt.title(\"Résidus du modèle\", fontsize=14)\n",
    "plt.show()"
   ],
   "outputs": [
    {
     "output_type": "display_data",
     "data": {
      "image/png": "[encoded data removed]",
      "text/plain": [
       "<Figure size 504x288 with 1 Axes>"
      ]
     },
     "metadata": {
      "needs_background": "light"
     }
    }
   ],
   "metadata": {}
  },
  {
   "cell_type": "markdown",
   "source": [
    "# Question 9"
   ],
   "metadata": {}
  },
  {
   "cell_type": "code",
   "execution_count": 45,
   "source": [
    "n,k = np.shape(X)"
   ],
   "outputs": [],
   "metadata": {}
  },
  {
   "cell_type": "code",
   "execution_count": 52,
   "source": [
    "test_9 = beta_8[4]/std_8[4]\n",
    "2*t.sf(test_9,n-k)"
   ],
   "outputs": [
    {
     "output_type": "execute_result",
     "data": {
      "text/plain": [
       "0.14334795324749716"
      ]
     },
     "metadata": {},
     "execution_count": 52
    }
   ],
   "metadata": {}
  },
  {
   "cell_type": "markdown",
   "source": [
    "The p-value for the double side test is 0.1433"
   ],
   "metadata": {}
  },
  {
   "cell_type": "code",
   "execution_count": 51,
   "source": [
    "test_9"
   ],
   "outputs": [
    {
     "output_type": "execute_result",
     "data": {
      "text/plain": [
       "1.4661719392245034"
      ]
     },
     "metadata": {},
     "execution_count": 51
    }
   ],
   "metadata": {}
  },
  {
   "cell_type": "code",
   "execution_count": 53,
   "source": [
    "t?"
   ],
   "outputs": [
    {
     "output_type": "stream",
     "name": "stdout",
     "text": [
      "\u001b[0;31mSignature:\u001b[0m       \u001b[0mt\u001b[0m\u001b[0;34m(\u001b[0m\u001b[0;34m*\u001b[0m\u001b[0margs\u001b[0m\u001b[0;34m,\u001b[0m \u001b[0;34m**\u001b[0m\u001b[0mkwds\u001b[0m\u001b[0;34m)\u001b[0m\u001b[0;34m\u001b[0m\u001b[0;34m\u001b[0m\u001b[0m\n",
      "\u001b[0;31mType:\u001b[0m            t_gen\n",
      "\u001b[0;31mString form:\u001b[0m     <scipy.stats._continuous_distns.t_gen object at 0x7fdb833ed550>\n",
      "\u001b[0;31mFile:\u001b[0m            ~/opt/anaconda3/lib/python3.7/site-packages/scipy/stats/_continuous_distns.py\n",
      "\u001b[0;31mDocstring:\u001b[0m      \n",
      "A Student's t continuous random variable.\n",
      "\n",
      "For the noncentral t distribution, see `nct`.\n",
      "\n",
      "As an instance of the `rv_continuous` class, `t` object inherits from it\n",
      "a collection of generic methods (see below for the full list),\n",
      "and completes them with details specific for this particular distribution.\n",
      "\n",
      "Methods\n",
      "-------\n",
      "rvs(df, loc=0, scale=1, size=1, random_state=None)\n",
      "    Random variates.\n",
      "pdf(x, df, loc=0, scale=1)\n",
      "    Probability density function.\n",
      "logpdf(x, df, loc=0, scale=1)\n",
      "    Log of the probability density function.\n",
      "cdf(x, df, loc=0, scale=1)\n",
      "    Cumulative distribution function.\n",
      "logcdf(x, df, loc=0, scale=1)\n",
      "    Log of the cumulative distribution function.\n",
      "sf(x, df, loc=0, scale=1)\n",
      "    Survival function  (also defined as ``1 - cdf``, but `sf` is sometimes more accurate).\n",
      "logsf(x, df, loc=0, scale=1)\n",
      "    Log of the survival function.\n",
      "ppf(q, df, loc=0, scale=1)\n",
      "    Percent point function (inverse of ``cdf`` --- percentiles).\n",
      "isf(q, df, loc=0, scale=1)\n",
      "    Inverse survival function (inverse of ``sf``).\n",
      "moment(n, df, loc=0, scale=1)\n",
      "    Non-central moment of order n\n",
      "stats(df, loc=0, scale=1, moments='mv')\n",
      "    Mean('m'), variance('v'), skew('s'), and/or kurtosis('k').\n",
      "entropy(df, loc=0, scale=1)\n",
      "    (Differential) entropy of the RV.\n",
      "fit(data)\n",
      "    Parameter estimates for generic data.\n",
      "    See `scipy.stats.rv_continuous.fit <https://docs.scipy.org/doc/scipy/reference/generated/scipy.stats.rv_continuous.fit.html#scipy.stats.rv_continuous.fit>`__ for detailed documentation of the\n",
      "    keyword arguments.\n",
      "expect(func, args=(df,), loc=0, scale=1, lb=None, ub=None, conditional=False, **kwds)\n",
      "    Expected value of a function (of one argument) with respect to the distribution.\n",
      "median(df, loc=0, scale=1)\n",
      "    Median of the distribution.\n",
      "mean(df, loc=0, scale=1)\n",
      "    Mean of the distribution.\n",
      "var(df, loc=0, scale=1)\n",
      "    Variance of the distribution.\n",
      "std(df, loc=0, scale=1)\n",
      "    Standard deviation of the distribution.\n",
      "interval(alpha, df, loc=0, scale=1)\n",
      "    Endpoints of the range that contains fraction alpha [0, 1] of the\n",
      "    distribution\n",
      "\n",
      "See Also\n",
      "--------\n",
      "nct\n",
      "\n",
      "Notes\n",
      "-----\n",
      "The probability density function for `t` is:\n",
      "\n",
      ".. math::\n",
      "\n",
      "    f(x, \\nu) = \\frac{\\Gamma((\\nu+1)/2)}\n",
      "                    {\\sqrt{\\pi \\nu} \\Gamma(\\nu/2)}\n",
      "                (1+x^2/\\nu)^{-(\\nu+1)/2}\n",
      "\n",
      "where :math:`x` is a real number and the degrees of freedom parameter\n",
      ":math:`\\nu` (denoted ``df`` in the implementation) satisfies\n",
      ":math:`\\nu > 0`. :math:`\\Gamma` is the gamma function\n",
      "(`scipy.special.gamma`).\n",
      "\n",
      "The probability density above is defined in the \"standardized\" form. To shift\n",
      "and/or scale the distribution use the ``loc`` and ``scale`` parameters.\n",
      "Specifically, ``t.pdf(x, df, loc, scale)`` is identically\n",
      "equivalent to ``t.pdf(y, df) / scale`` with\n",
      "``y = (x - loc) / scale``. Note that shifting the location of a distribution\n",
      "does not make it a \"noncentral\" distribution; noncentral generalizations of\n",
      "some distributions are available in separate classes.\n",
      "\n",
      "Examples\n",
      "--------\n",
      ">>> from scipy.stats import t\n",
      ">>> import matplotlib.pyplot as plt\n",
      ">>> fig, ax = plt.subplots(1, 1)\n",
      "\n",
      "Calculate the first four moments:\n",
      "\n",
      ">>> df = 2.74\n",
      ">>> mean, var, skew, kurt = t.stats(df, moments='mvsk')\n",
      "\n",
      "Display the probability density function (``pdf``):\n",
      "\n",
      ">>> x = np.linspace(t.ppf(0.01, df),\n",
      "...                 t.ppf(0.99, df), 100)\n",
      ">>> ax.plot(x, t.pdf(x, df),\n",
      "...        'r-', lw=5, alpha=0.6, label='t pdf')\n",
      "\n",
      "Alternatively, the distribution object can be called (as a function)\n",
      "to fix the shape, location and scale parameters. This returns a \"frozen\"\n",
      "RV object holding the given parameters fixed.\n",
      "\n",
      "Freeze the distribution and display the frozen ``pdf``:\n",
      "\n",
      ">>> rv = t(df)\n",
      ">>> ax.plot(x, rv.pdf(x), 'k-', lw=2, label='frozen pdf')\n",
      "\n",
      "Check accuracy of ``cdf`` and ``ppf``:\n",
      "\n",
      ">>> vals = t.ppf([0.001, 0.5, 0.999], df)\n",
      ">>> np.allclose([0.001, 0.5, 0.999], t.cdf(vals, df))\n",
      "True\n",
      "\n",
      "Generate random numbers:\n",
      "\n",
      ">>> r = t.rvs(df, size=1000)\n",
      "\n",
      "And compare the histogram:\n",
      "\n",
      ">>> ax.hist(r, density=True, histtype='stepfilled', alpha=0.2)\n",
      ">>> ax.legend(loc='best', frameon=False)\n",
      ">>> plt.show()\n",
      "\u001b[0;31mClass docstring:\u001b[0m\n",
      "A Student's t continuous random variable.\n",
      "\n",
      "For the noncentral t distribution, see `nct`.\n",
      "\n",
      "%(before_notes)s\n",
      "\n",
      "See Also\n",
      "--------\n",
      "nct\n",
      "\n",
      "Notes\n",
      "-----\n",
      "The probability density function for `t` is:\n",
      "\n",
      ".. math::\n",
      "\n",
      "    f(x, \\nu) = \\frac{\\Gamma((\\nu+1)/2)}\n",
      "                    {\\sqrt{\\pi \\nu} \\Gamma(\\nu/2)}\n",
      "                (1+x^2/\\nu)^{-(\\nu+1)/2}\n",
      "\n",
      "where :math:`x` is a real number and the degrees of freedom parameter\n",
      ":math:`\\nu` (denoted ``df`` in the implementation) satisfies\n",
      ":math:`\\nu > 0`. :math:`\\Gamma` is the gamma function\n",
      "(`scipy.special.gamma`).\n",
      "\n",
      "%(after_notes)s\n",
      "\n",
      "%(example)s\n",
      "\u001b[0;31mCall docstring:\u001b[0m \n",
      "Freeze the distribution for the given arguments.\n",
      "\n",
      "Parameters\n",
      "----------\n",
      "arg1, arg2, arg3,... : array_like\n",
      "    The shape parameter(s) for the distribution.  Should include all\n",
      "    the non-optional arguments, may include ``loc`` and ``scale``.\n",
      "\n",
      "Returns\n",
      "-------\n",
      "rv_frozen : rv_frozen instance\n",
      "    The frozen distribution.\n"
     ]
    }
   ],
   "metadata": {}
  },
  {
   "cell_type": "code",
   "execution_count": 56,
   "source": [
    "seuil_signifi = [0.01, 0.05,0.1]\n",
    "\n",
    "for i  in seuil_signifi:\n",
    "  print(i,'left side:',t.ppf(i/2,n-k,loc = beta_8[4], scale = std_8[4]),'right side:',t.ppf(1-i/2,n-k,loc = beta_8[4], scale = std_8[4]))\n",
    "  \n",
    "  "
   ],
   "outputs": [
    {
     "output_type": "stream",
     "name": "stdout",
     "text": [
      "0.01 left side: -0.003735152867731779 right side: 0.01350231263538276\n",
      "0.05 left side: -0.0016635627812276984 right side: 0.01143072254887868\n",
      "0.1 left side: -0.0006072419727868516 right side: 0.010374401740437831\n"
     ]
    }
   ],
   "metadata": {}
  },
  {
   "cell_type": "markdown",
   "source": [
    "So for these 3 signification threshold, we could not reject the null hypothsis. They（0.01，0.05， 0.1） are all inferior to the p-value 0.1433"
   ],
   "metadata": {}
  },
  {
   "cell_type": "markdown",
   "source": [
    "# Question 10"
   ],
   "metadata": {}
  },
  {
   "cell_type": "code",
   "execution_count": 58,
   "source": [
    "test_10 = (beta_8[4]-0.01)/std_8[4]\n",
    "2*(1-t.sf(test_10,n-k))"
   ],
   "outputs": [
    {
     "output_type": "execute_result",
     "data": {
      "text/plain": [
       "0.12527082605534323"
      ]
     },
     "metadata": {},
     "execution_count": 58
    }
   ],
   "metadata": {}
  },
  {
   "cell_type": "markdown",
   "source": [
    "We cannot reject the null hypothesis because the test p-value is 0.125 which is supurior to the significant level 0.05"
   ],
   "metadata": {}
  },
  {
   "cell_type": "markdown",
   "source": [
    "# Question 11"
   ],
   "metadata": {}
  },
  {
   "cell_type": "code",
   "execution_count": 63,
   "source": [
    "y = dt_p1.wage\n",
    "const = np.ones(np.shape(y))\n",
    "X0=np.column_stack((const, dt_p1.city, dt_p1.educ,dt_p1.exper, dt_p1.nwifeinc,dt_p1.kidslt6,dt_p1.kidsgt6))\n",
    "y = y - 0.01*X0[:,4]-0.05*X0[:,1]\n",
    "X = np.column_stack((const, dt_p1.educ,dt_p1.exper,dt_p1.kidslt6,dt_p1.kidsgt6))"
   ],
   "outputs": [],
   "metadata": {}
  },
  {
   "cell_type": "code",
   "execution_count": 64,
   "source": [
    "beta_11, u_11, sig2_11, Var_11, std_11 = linear_reg(X,y)"
   ],
   "outputs": [],
   "metadata": {}
  },
  {
   "cell_type": "code",
   "execution_count": 65,
   "source": [
    "beta_11"
   ],
   "outputs": [
    {
     "output_type": "execute_result",
     "data": {
      "text/plain": [
       "array([-2.28650838,  0.47744631,  0.02240039,  0.01938407, -0.0710052 ])"
      ]
     },
     "metadata": {},
     "execution_count": 65
    }
   ],
   "metadata": {}
  },
  {
   "cell_type": "code",
   "execution_count": 62,
   "source": [
    "model=sm.OLS(y,X)\n",
    "results = model.fit()\n",
    "print(results.summary())"
   ],
   "outputs": [
    {
     "output_type": "stream",
     "name": "stdout",
     "text": [
      "                            OLS Regression Results                            \n",
      "==============================================================================\n",
      "Dep. Variable:                      6   R-squared:                       0.116\n",
      "Model:                            OLS   Adj. R-squared:                  0.108\n",
      "Method:                 Least Squares   F-statistic:                     13.88\n",
      "Date:                Wed, 17 Nov 2021   Prob (F-statistic):           1.19e-10\n",
      "Time:                        20:25:31   Log-Likelihood:                -1090.7\n",
      "No. Observations:                 428   AIC:                             2191.\n",
      "Df Residuals:                     423   BIC:                             2212.\n",
      "Df Model:                           4                                         \n",
      "Covariance Type:            nonrobust                                         \n",
      "==============================================================================\n",
      "                 coef    std err          t      P>|t|      [0.025      0.975]\n",
      "------------------------------------------------------------------------------\n",
      "const         -2.2865      0.957     -2.390      0.017      -4.167      -0.406\n",
      "x1             0.4774      0.067      7.141      0.000       0.346       0.609\n",
      "x2             0.0224      0.021      1.089      0.277      -0.018       0.063\n",
      "x3             0.0194      0.395      0.049      0.961      -0.756       0.795\n",
      "x4            -0.0710      0.125     -0.568      0.570      -0.317       0.175\n",
      "==============================================================================\n",
      "Omnibus:                      348.571   Durbin-Watson:                   2.057\n",
      "Prob(Omnibus):                  0.000   Jarque-Bera (JB):             6652.941\n",
      "Skew:                           3.424   Prob(JB):                         0.00\n",
      "Kurtosis:                      21.060   Cond. No.                         123.\n",
      "==============================================================================\n",
      "\n",
      "Warnings:\n",
      "[1] Standard Errors assume that the covariance matrix of the errors is correctly specified.\n"
     ]
    }
   ],
   "metadata": {}
  },
  {
   "cell_type": "code",
   "execution_count": 68,
   "source": [
    "SSR_0 = u_7.T@u_7\n",
    "SSR_11 = u_11.T@u_11\n",
    "n,k=np.shape(X0) \n",
    "F=((SSR_11-SSR_0)/2)/(SSR_0/(n-k)) \n",
    "f.sf(F,2,n-k)"
   ],
   "outputs": [
    {
     "output_type": "execute_result",
     "data": {
      "text/plain": [
       "0.5278453824916287"
      ]
     },
     "metadata": {},
     "execution_count": 68
    }
   ],
   "metadata": {}
  },
  {
   "cell_type": "markdown",
   "source": [
    "the p value is quite large as 0.528, so we do not reject the null hypothesis."
   ],
   "metadata": {}
  },
  {
   "cell_type": "code",
   "execution_count": 69,
   "source": [
    "F"
   ],
   "outputs": [
    {
     "output_type": "execute_result",
     "data": {
      "text/plain": [
       "0.6399225938008848"
      ]
     },
     "metadata": {},
     "execution_count": 69
    }
   ],
   "metadata": {}
  },
  {
   "cell_type": "code",
   "execution_count": 71,
   "source": [
    "f.sf?"
   ],
   "outputs": [
    {
     "output_type": "stream",
     "name": "stdout",
     "text": [
      "\u001b[0;31mSignature:\u001b[0m \u001b[0mf\u001b[0m\u001b[0;34m.\u001b[0m\u001b[0msf\u001b[0m\u001b[0;34m(\u001b[0m\u001b[0mx\u001b[0m\u001b[0;34m,\u001b[0m \u001b[0;34m*\u001b[0m\u001b[0margs\u001b[0m\u001b[0;34m,\u001b[0m \u001b[0;34m**\u001b[0m\u001b[0mkwds\u001b[0m\u001b[0;34m)\u001b[0m\u001b[0;34m\u001b[0m\u001b[0;34m\u001b[0m\u001b[0m\n",
      "\u001b[0;31mDocstring:\u001b[0m\n",
      "Survival function (1 - `cdf`) at x of the given RV.\n",
      "\n",
      "Parameters\n",
      "----------\n",
      "x : array_like\n",
      "    quantiles\n",
      "arg1, arg2, arg3,... : array_like\n",
      "    The shape parameter(s) for the distribution (see docstring of the\n",
      "    instance object for more information)\n",
      "loc : array_like, optional\n",
      "    location parameter (default=0)\n",
      "scale : array_like, optional\n",
      "    scale parameter (default=1)\n",
      "\n",
      "Returns\n",
      "-------\n",
      "sf : array_like\n",
      "    Survival function evaluated at x\n",
      "\u001b[0;31mFile:\u001b[0m      ~/opt/anaconda3/lib/python3.7/site-packages/scipy/stats/_distn_infrastructure.py\n",
      "\u001b[0;31mType:\u001b[0m      method\n"
     ]
    }
   ],
   "metadata": {}
  },
  {
   "cell_type": "code",
   "execution_count": 70,
   "source": [
    "k"
   ],
   "outputs": [
    {
     "output_type": "execute_result",
     "data": {
      "text/plain": [
       "7"
      ]
     },
     "metadata": {},
     "execution_count": 70
    }
   ],
   "metadata": {}
  },
  {
   "cell_type": "markdown",
   "source": [
    "# Exercice 12"
   ],
   "metadata": {}
  },
  {
   "cell_type": "code",
   "execution_count": 97,
   "source": [
    "xxx_educ = np.linspace(5,20,100)\n",
    "yyy_wage = xxx_educ*beta_7[2]+beta_7[0]\n",
    "plt.scatter(dt_p1.educ,dt_p1.wage)\n",
    "plt.plot(xxx_educ,yyy_wage)\n",
    "plt.xlabel('education')\n",
    "plt.ylabel('wage')\n",
    "plt.title('variation of wage with education')"
   ],
   "outputs": [
    {
     "output_type": "execute_result",
     "data": {
      "text/plain": [
       "Text(0, 0.5, 'wage')"
      ]
     },
     "metadata": {},
     "execution_count": 97
    },
    {
     "output_type": "display_data",
     "data": {
      "image/png": "[encoded data removed]",
      "text/plain": [
       "<Figure size 432x288 with 1 Axes>"
      ]
     },
     "metadata": {
      "needs_background": "light"
     }
    }
   ],
   "metadata": {}
  },
  {
   "cell_type": "markdown",
   "source": [
    "The way that the salary augment with education is presented in the graph "
   ],
   "metadata": {}
  },
  {
   "cell_type": "code",
   "execution_count": 99,
   "source": [
    "xxx_exper = np.linspace(0,40,100)\n",
    "yyy_wage = xxx_exper*beta_7[3]+beta_7[0]\n",
    "plt.scatter(dt_p1.exper,dt_p1.wage)\n",
    "plt.plot(xxx_exper,yyy_wage)\n",
    "plt.xlabel('experience professionnelle')\n",
    "plt.ylabel('wage')\n",
    "plt.title('variation of wage with experience professionnelle')"
   ],
   "outputs": [
    {
     "output_type": "execute_result",
     "data": {
      "text/plain": [
       "Text(0, 0.5, 'wage')"
      ]
     },
     "metadata": {},
     "execution_count": 99
    },
    {
     "output_type": "display_data",
     "data": {
      "image/png": "[encoded data removed]",
      "text/plain": [
       "<Figure size 432x288 with 1 Axes>"
      ]
     },
     "metadata": {
      "needs_background": "light"
     }
    }
   ],
   "metadata": {}
  },
  {
   "cell_type": "markdown",
   "source": [
    "有点难定? 这边的截距我不太确定? 可能是用一些平均值来代替\n",
    "比方说平均工作经验与平均薪水做一个对应! "
   ],
   "metadata": {}
  },
  {
   "cell_type": "markdown",
   "source": [
    "# Exercice 13"
   ],
   "metadata": {}
  },
  {
   "cell_type": "code",
   "execution_count": 100,
   "source": [
    "y = dt_p1.wage\n",
    "const = np.ones(np.shape(y))\n",
    "#X0=np.column_stack((const, dt_p1.city, dt_p1.educ,dt_p1.exper, dt_p1.nwifeinc,dt_p1.kidslt6,dt_p1.kidsgt6))\n",
    "X = np.column_stack((const, dt_p1.city, dt_p1.educ,dt_p1.exper,dt_p1.nwifeinc,dt_p1.kidslt6,dt_p1.kidsgt6+dt_p1.kidslt6))"
   ],
   "outputs": [],
   "metadata": {}
  },
  {
   "cell_type": "code",
   "execution_count": 101,
   "source": [
    "model=sm.OLS(y,X)\n",
    "results = model.fit()\n",
    "print(results.summary())"
   ],
   "outputs": [
    {
     "output_type": "stream",
     "name": "stdout",
     "text": [
      "                            OLS Regression Results                            \n",
      "==============================================================================\n",
      "Dep. Variable:                      6   R-squared:                       0.127\n",
      "Model:                            OLS   Adj. R-squared:                  0.115\n",
      "Method:                 Least Squares   F-statistic:                     10.23\n",
      "Date:                Wed, 17 Nov 2021   Prob (F-statistic):           1.41e-10\n",
      "Time:                        21:07:56   Log-Likelihood:                -1090.0\n",
      "No. Observations:                 428   AIC:                             2194.\n",
      "Df Residuals:                     421   BIC:                             2222.\n",
      "Df Model:                           6                                         \n",
      "Covariance Type:            nonrobust                                         \n",
      "==============================================================================\n",
      "                 coef    std err          t      P>|t|      [0.025      0.975]\n",
      "------------------------------------------------------------------------------\n",
      "const         -2.4034      0.963     -2.495      0.013      -4.297      -0.510\n",
      "x1             0.3697      0.327      1.132      0.258      -0.272       1.012\n",
      "x2             0.4600      0.070      6.546      0.000       0.322       0.598\n",
      "x3             0.0238      0.021      1.141      0.255      -0.017       0.065\n",
      "x4             0.0152      0.015      0.984      0.326      -0.015       0.046\n",
      "x5             0.0981      0.421      0.233      0.816      -0.729       0.925\n",
      "x6            -0.0619      0.125     -0.494      0.622      -0.308       0.185\n",
      "==============================================================================\n",
      "Omnibus:                      345.825   Durbin-Watson:                   2.056\n",
      "Prob(Omnibus):                  0.000   Jarque-Bera (JB):             6499.393\n",
      "Skew:                           3.389   Prob(JB):                         0.00\n",
      "Kurtosis:                      20.847   Cond. No.                         178.\n",
      "==============================================================================\n",
      "\n",
      "Warnings:\n",
      "[1] Standard Errors assume that the covariance matrix of the errors is correctly specified.\n"
     ]
    }
   ],
   "metadata": {}
  },
  {
   "cell_type": "markdown",
   "source": [
    "We could draw a conclustion from the coeficient of x5 => we could admit the equality in the significance level of 81.6%"
   ],
   "metadata": {}
  },
  {
   "cell_type": "markdown",
   "source": [
    "# Exercice 14"
   ],
   "metadata": {}
  },
  {
   "cell_type": "code",
   "execution_count": 102,
   "source": [
    "y = dt_p1.wage\n",
    "const = np.ones(np.shape(y))\n",
    "X=np.column_stack((const, dt_p1.city, dt_p1.educ,dt_p1.exper, dt_p1.nwifeinc,dt_p1.kidslt6,dt_p1.kidsgt6))\n",
    "model=sm.OLS(y,X)\n",
    "results = model.fit()\n",
    "print(results.summary())"
   ],
   "outputs": [
    {
     "output_type": "stream",
     "name": "stdout",
     "text": [
      "                            OLS Regression Results                            \n",
      "==============================================================================\n",
      "Dep. Variable:                      6   R-squared:                       0.127\n",
      "Model:                            OLS   Adj. R-squared:                  0.115\n",
      "Method:                 Least Squares   F-statistic:                     10.23\n",
      "Date:                Wed, 17 Nov 2021   Prob (F-statistic):           1.41e-10\n",
      "Time:                        21:16:37   Log-Likelihood:                -1090.0\n",
      "No. Observations:                 428   AIC:                             2194.\n",
      "Df Residuals:                     421   BIC:                             2222.\n",
      "Df Model:                           6                                         \n",
      "Covariance Type:            nonrobust                                         \n",
      "==============================================================================\n",
      "                 coef    std err          t      P>|t|      [0.025      0.975]\n",
      "------------------------------------------------------------------------------\n",
      "const         -2.4034      0.963     -2.495      0.013      -4.297      -0.510\n",
      "x1             0.3697      0.327      1.132      0.258      -0.272       1.012\n",
      "x2             0.4600      0.070      6.546      0.000       0.322       0.598\n",
      "x3             0.0238      0.021      1.141      0.255      -0.017       0.065\n",
      "x4             0.0152      0.015      0.984      0.326      -0.015       0.046\n",
      "x5             0.0362      0.397      0.091      0.927      -0.744       0.816\n",
      "x6            -0.0619      0.125     -0.494      0.622      -0.308       0.185\n",
      "==============================================================================\n",
      "Omnibus:                      345.825   Durbin-Watson:                   2.056\n",
      "Prob(Omnibus):                  0.000   Jarque-Bera (JB):             6499.393\n",
      "Skew:                           3.389   Prob(JB):                         0.00\n",
      "Kurtosis:                      20.847   Cond. No.                         178.\n",
      "==============================================================================\n",
      "\n",
      "Warnings:\n",
      "[1] Standard Errors assume that the covariance matrix of the errors is correctly specified.\n"
     ]
    }
   ],
   "metadata": {}
  },
  {
   "cell_type": "code",
   "execution_count": 103,
   "source": [
    "u = results.resid\n",
    "u2= u**2\n",
    "y = u2\n",
    "model = sm.OLS(y,X)\n",
    "results  = model.fit()\n",
    "print(results.summary())"
   ],
   "outputs": [
    {
     "output_type": "stream",
     "name": "stdout",
     "text": [
      "                            OLS Regression Results                            \n",
      "==============================================================================\n",
      "Dep. Variable:                      y   R-squared:                       0.022\n",
      "Model:                            OLS   Adj. R-squared:                  0.008\n",
      "Method:                 Least Squares   F-statistic:                     1.593\n",
      "Date:                Wed, 17 Nov 2021   Prob (F-statistic):              0.148\n",
      "Time:                        21:17:14   Log-Likelihood:                -2207.4\n",
      "No. Observations:                 428   AIC:                             4429.\n",
      "Df Residuals:                     421   BIC:                             4457.\n",
      "Df Model:                           6                                         \n",
      "Covariance Type:            nonrobust                                         \n",
      "==============================================================================\n",
      "                 coef    std err          t      P>|t|      [0.025      0.975]\n",
      "------------------------------------------------------------------------------\n",
      "const          1.4856     13.111      0.113      0.910     -24.285      27.256\n",
      "x1             5.9645      4.444      1.342      0.180      -2.770      14.699\n",
      "x2             0.8077      0.956      0.845      0.399      -1.072       2.687\n",
      "x3            -0.5341      0.284     -1.880      0.061      -1.093       0.024\n",
      "x4             0.0435      0.211      0.206      0.837      -0.371       0.458\n",
      "x5             4.9573      5.402      0.918      0.359      -5.661      15.575\n",
      "x6            -0.4018      1.706     -0.236      0.814      -3.756       2.952\n",
      "==============================================================================\n",
      "Omnibus:                      638.793   Durbin-Watson:                   2.029\n",
      "Prob(Omnibus):                  0.000   Jarque-Bera (JB):            96122.153\n",
      "Skew:                           8.127   Prob(JB):                         0.00\n",
      "Kurtosis:                      74.595   Cond. No.                         178.\n",
      "==============================================================================\n",
      "\n",
      "Warnings:\n",
      "[1] Standard Errors assume that the covariance matrix of the errors is correctly specified.\n"
     ]
    }
   ],
   "metadata": {}
  },
  {
   "cell_type": "markdown",
   "source": [
    "The p-value for the test of heteroscedasticity is 0.148"
   ],
   "metadata": {}
  },
  {
   "cell_type": "code",
   "execution_count": 105,
   "source": [
    "u = results.resid\n",
    "SSR14_0 = u.T@u"
   ],
   "outputs": [],
   "metadata": {}
  },
  {
   "cell_type": "code",
   "execution_count": 106,
   "source": [
    "SSR14_0"
   ],
   "outputs": [
    {
     "output_type": "execute_result",
     "data": {
      "text/plain": [
       "756183.632227487"
      ]
     },
     "metadata": {},
     "execution_count": 106
    }
   ],
   "metadata": {}
  },
  {
   "cell_type": "markdown",
   "source": [
    "Because the absolute t value of x1 and x3 are the largest, so we consider them as the sources of heteroscedasticity. Next, we consider to eliminate them "
   ],
   "metadata": {}
  },
  {
   "cell_type": "code",
   "execution_count": 107,
   "source": [
    "X=np.column_stack((const, dt_p1.educ, dt_p1.nwifeinc,dt_p1.kidslt6,dt_p1.kidsgt6))\n",
    "model = sm.OLS(y,X)\n",
    "results  = model.fit()\n",
    "print(results.summary())"
   ],
   "outputs": [
    {
     "output_type": "stream",
     "name": "stdout",
     "text": [
      "                            OLS Regression Results                            \n",
      "==============================================================================\n",
      "Dep. Variable:                      y   R-squared:                       0.010\n",
      "Model:                            OLS   Adj. R-squared:                  0.001\n",
      "Method:                 Least Squares   F-statistic:                     1.079\n",
      "Date:                Wed, 17 Nov 2021   Prob (F-statistic):              0.366\n",
      "Time:                        21:25:57   Log-Likelihood:                -2210.0\n",
      "No. Observations:                 428   AIC:                             4430.\n",
      "Df Residuals:                     423   BIC:                             4450.\n",
      "Df Model:                           4                                         \n",
      "Covariance Type:            nonrobust                                         \n",
      "==============================================================================\n",
      "                 coef    std err          t      P>|t|      [0.025      0.975]\n",
      "------------------------------------------------------------------------------\n",
      "const         -6.5982     12.066     -0.547      0.585     -30.315      17.119\n",
      "x1             0.8839      0.956      0.924      0.356      -0.996       2.764\n",
      "x2             0.1684      0.204      0.827      0.409      -0.232       0.569\n",
      "x3             6.7786      5.341      1.269      0.205      -3.720      17.277\n",
      "x4             0.6008      1.584      0.379      0.705      -2.512       3.714\n",
      "==============================================================================\n",
      "Omnibus:                      645.752   Durbin-Watson:                   2.033\n",
      "Prob(Omnibus):                  0.000   Jarque-Bera (JB):           101646.479\n",
      "Skew:                           8.280   Prob(JB):                         0.00\n",
      "Kurtosis:                      76.659   Cond. No.                         146.\n",
      "==============================================================================\n",
      "\n",
      "Warnings:\n",
      "[1] Standard Errors assume that the covariance matrix of the errors is correctly specified.\n"
     ]
    }
   ],
   "metadata": {}
  },
  {
   "cell_type": "code",
   "execution_count": 108,
   "source": [
    "u = results.resid\n",
    "SSR14_1 = u.T@u"
   ],
   "outputs": [],
   "metadata": {}
  },
  {
   "cell_type": "code",
   "execution_count": 109,
   "source": [
    "SSR14_1"
   ],
   "outputs": [
    {
     "output_type": "execute_result",
     "data": {
      "text/plain": [
       "765533.006925858"
      ]
     },
     "metadata": {},
     "execution_count": 109
    }
   ],
   "metadata": {}
  },
  {
   "cell_type": "code",
   "execution_count": 110,
   "source": [
    "F=((SSR14_1-SSR14_0)/2)/(SSR14_0/(n-k)) \n",
    "f.sf(F,2,n-k)"
   ],
   "outputs": [
    {
     "output_type": "execute_result",
     "data": {
      "text/plain": [
       "0.0752723756249966"
      ]
     },
     "metadata": {},
     "execution_count": 110
    }
   ],
   "metadata": {}
  },
  {
   "cell_type": "code",
   "execution_count": 111,
   "source": [
    "F"
   ],
   "outputs": [
    {
     "output_type": "execute_result",
     "data": {
      "text/plain": [
       "2.602599805301026"
      ]
     },
     "metadata": {},
     "execution_count": 111
    }
   ],
   "metadata": {}
  },
  {
   "cell_type": "markdown",
   "source": [
    "That is the test for that the non influence of city and exper to the sigma variation."
   ],
   "metadata": {}
  },
  {
   "cell_type": "markdown",
   "source": [
    "If we set log to the exper variation we could see as follows"
   ],
   "metadata": {}
  },
  {
   "cell_type": "code",
   "execution_count": 122,
   "source": [
    "len(dt_p1.age)"
   ],
   "outputs": [
    {
     "output_type": "execute_result",
     "data": {
      "text/plain": [
       "428"
      ]
     },
     "metadata": {},
     "execution_count": 122
    }
   ],
   "metadata": {}
  },
  {
   "cell_type": "code",
   "execution_count": 125,
   "source": [
    "y = dt_p1.wage\n",
    "const = np.ones(np.shape(y))\n",
    "X=np.column_stack((const, dt_p1.city, dt_p1.educ, dt_p1.expersq, dt_p1.nwifeinc,dt_p1.kidslt6,dt_p1.kidsgt6))\n",
    "model=sm.OLS(y,X)\n",
    "results = model.fit()\n",
    "print(results.summary())"
   ],
   "outputs": [
    {
     "output_type": "stream",
     "name": "stdout",
     "text": [
      "                            OLS Regression Results                            \n",
      "==============================================================================\n",
      "Dep. Variable:                      6   R-squared:                       0.127\n",
      "Model:                            OLS   Adj. R-squared:                  0.114\n",
      "Method:                 Least Squares   F-statistic:                     10.18\n",
      "Date:                Thu, 18 Nov 2021   Prob (F-statistic):           1.59e-10\n",
      "Time:                        09:08:24   Log-Likelihood:                -1090.1\n",
      "No. Observations:                 428   AIC:                             2194.\n",
      "Df Residuals:                     421   BIC:                             2223.\n",
      "Df Model:                           6                                         \n",
      "Covariance Type:            nonrobust                                         \n",
      "==============================================================================\n",
      "                 coef    std err          t      P>|t|      [0.025      0.975]\n",
      "------------------------------------------------------------------------------\n",
      "const         -2.2446      0.926     -2.425      0.016      -4.064      -0.425\n",
      "x1             0.3761      0.327      1.152      0.250      -0.266       1.018\n",
      "x2             0.4617      0.070      6.569      0.000       0.324       0.600\n",
      "x3             0.0006      0.001      1.026      0.305      -0.001       0.002\n",
      "x4             0.0148      0.015      0.955      0.340      -0.016       0.045\n",
      "x5             0.0203      0.396      0.051      0.959      -0.758       0.798\n",
      "x6            -0.0700      0.124     -0.562      0.574      -0.315       0.175\n",
      "==============================================================================\n",
      "Omnibus:                      343.216   Durbin-Watson:                   2.058\n",
      "Prob(Omnibus):                  0.000   Jarque-Bera (JB):             6326.641\n",
      "Skew:                           3.359   Prob(JB):                         0.00\n",
      "Kurtosis:                      20.596   Cond. No.                     2.21e+03\n",
      "==============================================================================\n",
      "\n",
      "Warnings:\n",
      "[1] Standard Errors assume that the covariance matrix of the errors is correctly specified.\n",
      "[2] The condition number is large, 2.21e+03. This might indicate that there are\n",
      "strong multicollinearity or other numerical problems.\n"
     ]
    }
   ],
   "metadata": {}
  },
  {
   "cell_type": "code",
   "execution_count": 126,
   "source": [
    "u = results.resid\n",
    "u2= u**2\n",
    "y = u2\n",
    "model = sm.OLS(y,X)\n",
    "results  = model.fit()\n",
    "print(results.summary())"
   ],
   "outputs": [
    {
     "output_type": "stream",
     "name": "stdout",
     "text": [
      "                            OLS Regression Results                            \n",
      "==============================================================================\n",
      "Dep. Variable:                      y   R-squared:                       0.018\n",
      "Model:                            OLS   Adj. R-squared:                  0.004\n",
      "Method:                 Least Squares   F-statistic:                     1.275\n",
      "Date:                Thu, 18 Nov 2021   Prob (F-statistic):              0.268\n",
      "Time:                        09:11:42   Log-Likelihood:                -2205.9\n",
      "No. Observations:                 428   AIC:                             4426.\n",
      "Df Residuals:                     421   BIC:                             4454.\n",
      "Df Model:                           6                                         \n",
      "Covariance Type:            nonrobust                                         \n",
      "==============================================================================\n",
      "                 coef    std err          t      P>|t|      [0.025      0.975]\n",
      "------------------------------------------------------------------------------\n",
      "const         -3.6861     12.548     -0.294      0.769     -28.350      20.978\n",
      "x1             5.7934      4.427      1.309      0.191      -2.908      14.495\n",
      "x2             0.7773      0.953      0.816      0.415      -1.096       2.650\n",
      "x3            -0.0105      0.008     -1.259      0.209      -0.027       0.006\n",
      "x4             0.0691      0.210      0.329      0.742      -0.343       0.481\n",
      "x5             5.6487      5.365      1.053      0.293      -4.898      16.195\n",
      "x6             0.0368      1.687      0.022      0.983      -3.279       3.353\n",
      "==============================================================================\n",
      "Omnibus:                      640.305   Durbin-Watson:                   2.035\n",
      "Prob(Omnibus):                  0.000   Jarque-Bera (JB):            96948.401\n",
      "Skew:                           8.162   Prob(JB):                         0.00\n",
      "Kurtosis:                      74.902   Cond. No.                     2.21e+03\n",
      "==============================================================================\n",
      "\n",
      "Warnings:\n",
      "[1] Standard Errors assume that the covariance matrix of the errors is correctly specified.\n",
      "[2] The condition number is large, 2.21e+03. This might indicate that there are\n",
      "strong multicollinearity or other numerical problems.\n"
     ]
    }
   ],
   "metadata": {}
  },
  {
   "cell_type": "markdown",
   "source": [
    "不太确定这是不是对的 稍微看下"
   ],
   "metadata": {}
  },
  {
   "cell_type": "markdown",
   "source": [
    "# Exercice 15"
   ],
   "metadata": {}
  },
  {
   "cell_type": "code",
   "execution_count": 127,
   "source": [
    "X0=np.column_stack((const, dt_p1.city, dt_p1.educ,dt_p1.exper, dt_p1.nwifeinc,dt_p1.kidslt6,dt_p1.kidsgt6))"
   ],
   "outputs": [],
   "metadata": {}
  },
  {
   "cell_type": "code",
   "execution_count": 142,
   "source": [
    "s_g = dt_p1.age>=43\n",
    "y = dt_p1.lwage\n",
    "X = X0[s_g,:]\n",
    "y = y[s_g]\n",
    "n,k = np.shape(X)\n",
    "model_g = sm.OLS(y,X)\n",
    "results_g = model_g.fit()\n",
    "u_g = results_g.resid\n",
    "SSR15_g = u_g.T@u_g\n",
    "\n",
    "\n",
    "s_l = dt_p1.age<43\n",
    "y = dt_p1.lwage\n",
    "X = X0[s_l,:]\n",
    "y = y[s_l]\n",
    "n,k = np.shape(X)\n",
    "model_l = sm.OLS(y,X)\n",
    "results_l = model_l.fit()\n",
    "u_l = results_l.resid\n",
    "SSR15_l = u_l.T@u_l"
   ],
   "outputs": [],
   "metadata": {}
  },
  {
   "cell_type": "code",
   "execution_count": 143,
   "source": [
    "SSR15_g"
   ],
   "outputs": [
    {
     "output_type": "execute_result",
     "data": {
      "text/plain": [
       "80.40365115321053"
      ]
     },
     "metadata": {},
     "execution_count": 143
    }
   ],
   "metadata": {}
  },
  {
   "cell_type": "code",
   "execution_count": 144,
   "source": [
    "SSR15_l"
   ],
   "outputs": [
    {
     "output_type": "execute_result",
     "data": {
      "text/plain": [
       "104.4815796414833"
      ]
     },
     "metadata": {},
     "execution_count": 144
    }
   ],
   "metadata": {}
  },
  {
   "cell_type": "code",
   "execution_count": 138,
   "source": [
    "u_8.T@u_8"
   ],
   "outputs": [
    {
     "output_type": "execute_result",
     "data": {
      "text/plain": [
       "188.58968544120822"
      ]
     },
     "metadata": {},
     "execution_count": 138
    }
   ],
   "metadata": {}
  },
  {
   "cell_type": "code",
   "execution_count": 133,
   "source": [
    "print(results_g.summary())"
   ],
   "outputs": [
    {
     "output_type": "stream",
     "name": "stdout",
     "text": [
      "                            OLS Regression Results                            \n",
      "==============================================================================\n",
      "Dep. Variable:                     20   R-squared:                       0.145\n",
      "Model:                            OLS   Adj. R-squared:                  0.120\n",
      "Method:                 Least Squares   F-statistic:                     5.750\n",
      "Date:                Thu, 18 Nov 2021   Prob (F-statistic):           1.51e-05\n",
      "Time:                        09:19:34   Log-Likelihood:                -197.61\n",
      "No. Observations:                 211   AIC:                             409.2\n",
      "Df Residuals:                     204   BIC:                             432.7\n",
      "Df Model:                           6                                         \n",
      "Covariance Type:            nonrobust                                         \n",
      "==============================================================================\n",
      "                 coef    std err          t      P>|t|      [0.025      0.975]\n",
      "------------------------------------------------------------------------------\n",
      "const         -0.1774      0.253     -0.701      0.484      -0.677       0.322\n",
      "x1            -0.0216      0.101     -0.214      0.830      -0.220       0.177\n",
      "x2             0.0780      0.018      4.262      0.000       0.042       0.114\n",
      "x3             0.0155      0.005      2.865      0.005       0.005       0.026\n",
      "x4             0.0084      0.004      1.886      0.061      -0.000       0.017\n",
      "x5            -0.1228      0.285     -0.430      0.667      -0.685       0.440\n",
      "x6             0.0112      0.043      0.259      0.796      -0.074       0.097\n",
      "==============================================================================\n",
      "Omnibus:                       47.345   Durbin-Watson:                   2.286\n",
      "Prob(Omnibus):                  0.000   Jarque-Bera (JB):              154.469\n",
      "Skew:                          -0.886   Prob(JB):                     2.87e-34\n",
      "Kurtosis:                       6.799   Cond. No.                         198.\n",
      "==============================================================================\n",
      "\n",
      "Warnings:\n",
      "[1] Standard Errors assume that the covariance matrix of the errors is correctly specified.\n"
     ]
    }
   ],
   "metadata": {}
  },
  {
   "cell_type": "code",
   "execution_count": 134,
   "source": [
    "print(results_l.summary())"
   ],
   "outputs": [
    {
     "output_type": "stream",
     "name": "stdout",
     "text": [
      "                            OLS Regression Results                            \n",
      "==============================================================================\n",
      "Dep. Variable:                     20   R-squared:                       0.190\n",
      "Model:                            OLS   Adj. R-squared:                  0.167\n",
      "Method:                 Least Squares   F-statistic:                     8.209\n",
      "Date:                Thu, 18 Nov 2021   Prob (F-statistic):           5.47e-08\n",
      "Time:                        09:19:41   Log-Likelihood:                -228.61\n",
      "No. Observations:                 217   AIC:                             471.2\n",
      "Df Residuals:                     210   BIC:                             494.9\n",
      "Df Model:                           6                                         \n",
      "Covariance Type:            nonrobust                                         \n",
      "==============================================================================\n",
      "                 coef    std err          t      P>|t|      [0.025      0.975]\n",
      "------------------------------------------------------------------------------\n",
      "const         -0.7940      0.353     -2.251      0.025      -1.489      -0.099\n",
      "x1             0.0856      0.100      0.853      0.394      -0.112       0.283\n",
      "x2             0.1326      0.026      5.139      0.000       0.082       0.184\n",
      "x3             0.0258      0.009      2.878      0.004       0.008       0.044\n",
      "x4             0.0017      0.005      0.332      0.740      -0.008       0.012\n",
      "x5            -0.0860      0.098     -0.877      0.382      -0.279       0.107\n",
      "x6            -0.0208      0.039     -0.535      0.593      -0.097       0.056\n",
      "==============================================================================\n",
      "Omnibus:                       37.393   Durbin-Watson:                   1.825\n",
      "Prob(Omnibus):                  0.000   Jarque-Bera (JB):              124.647\n",
      "Skew:                          -0.654   Prob(JB):                     8.57e-28\n",
      "Kurtosis:                       6.475   Cond. No.                         189.\n",
      "==============================================================================\n",
      "\n",
      "Warnings:\n",
      "[1] Standard Errors assume that the covariance matrix of the errors is correctly specified.\n"
     ]
    }
   ],
   "metadata": {}
  },
  {
   "cell_type": "markdown",
   "source": [
    "# Exercice 16"
   ],
   "metadata": {}
  },
  {
   "cell_type": "code",
   "execution_count": 135,
   "source": [
    "X0=np.column_stack((const, dt_p1.city, dt_p1.educ,dt_p1.exper, dt_p1.nwifeinc,dt_p1.kidslt6,dt_p1.kidsgt6))"
   ],
   "outputs": [],
   "metadata": {}
  },
  {
   "cell_type": "code",
   "execution_count": 145,
   "source": [
    "y = dt_p1.lwage\n",
    "femegreateduc = (dt_p1.age>=43)*dt_p1.educ\n",
    "femegreatexper = (dt_p1.age>=43)*dt_p1.exper\n",
    "X = np.column_stack((const, femegreateduc, femegreatexper, dt_p1.city, dt_p1.educ,dt_p1.exper, dt_p1.nwifeinc,dt_p1.kidslt6,dt_p1.kidsgt6))"
   ],
   "outputs": [],
   "metadata": {}
  },
  {
   "cell_type": "code",
   "execution_count": 146,
   "source": [
    "model = sm.OLS(y,X)\n",
    "results  = model.fit()\n",
    "print(results.summary())"
   ],
   "outputs": [
    {
     "output_type": "stream",
     "name": "stdout",
     "text": [
      "                            OLS Regression Results                            \n",
      "==============================================================================\n",
      "Dep. Variable:                     20   R-squared:                       0.163\n",
      "Model:                            OLS   Adj. R-squared:                  0.147\n",
      "Method:                 Least Squares   F-statistic:                     10.19\n",
      "Date:                Thu, 18 Nov 2021   Prob (F-statistic):           4.96e-13\n",
      "Time:                        09:32:05   Log-Likelihood:                -430.07\n",
      "No. Observations:                 428   AIC:                             878.1\n",
      "Df Residuals:                     419   BIC:                             914.7\n",
      "Df Model:                           8                                         \n",
      "Covariance Type:            nonrobust                                         \n",
      "==============================================================================\n",
      "                 coef    std err          t      P>|t|      [0.025      0.975]\n",
      "------------------------------------------------------------------------------\n",
      "const         -0.4200      0.207     -2.029      0.043      -0.827      -0.013\n",
      "x1            -0.0028      0.010     -0.273      0.785      -0.023       0.018\n",
      "x2            -0.0081      0.009     -0.869      0.385      -0.026       0.010\n",
      "x3             0.0514      0.071      0.729      0.467      -0.087       0.190\n",
      "x4             0.1018      0.016      6.335      0.000       0.070       0.133\n",
      "x5             0.0237      0.008      2.899      0.004       0.008       0.040\n",
      "x6             0.0055      0.003      1.644      0.101      -0.001       0.012\n",
      "x7            -0.0750      0.089     -0.846      0.398      -0.249       0.099\n",
      "x8            -0.0232      0.028     -0.837      0.403      -0.078       0.031\n",
      "==============================================================================\n",
      "Omnibus:                       78.791   Durbin-Watson:                   1.982\n",
      "Prob(Omnibus):                  0.000   Jarque-Bera (JB):              290.946\n",
      "Skew:                          -0.779   Prob(JB):                     6.63e-64\n",
      "Kurtosis:                       6.726   Cond. No.                         193.\n",
      "==============================================================================\n",
      "\n",
      "Warnings:\n",
      "[1] Standard Errors assume that the covariance matrix of the errors is correctly specified.\n"
     ]
    }
   ],
   "metadata": {}
  },
  {
   "cell_type": "code",
   "execution_count": 149,
   "source": [
    "SSR16_1 = results.resid.T@results.resid"
   ],
   "outputs": [],
   "metadata": {}
  },
  {
   "cell_type": "markdown",
   "source": [],
   "metadata": {}
  },
  {
   "cell_type": "code",
   "execution_count": null,
   "source": [],
   "outputs": [],
   "metadata": {}
  },
  {
   "cell_type": "code",
   "execution_count": 150,
   "source": [
    "SSR16_0 = u_8.T@u_8"
   ],
   "outputs": [],
   "metadata": {}
  },
  {
   "cell_type": "code",
   "execution_count": 151,
   "source": [
    "SSR16_1"
   ],
   "outputs": [
    {
     "output_type": "execute_result",
     "data": {
      "text/plain": [
       "186.96507882455506"
      ]
     },
     "metadata": {},
     "execution_count": 151
    }
   ],
   "metadata": {}
  },
  {
   "cell_type": "code",
   "execution_count": 152,
   "source": [
    "SSR16_0"
   ],
   "outputs": [
    {
     "output_type": "execute_result",
     "data": {
      "text/plain": [
       "188.58969243996304"
      ]
     },
     "metadata": {},
     "execution_count": 152
    }
   ],
   "metadata": {}
  },
  {
   "cell_type": "code",
   "execution_count": 155,
   "source": [
    "n_16,k_16 = np.shape(X)\n",
    "F = ((SSR16_0-SSR16_1)/2)/(SSR16_1/(n_16-k_16))\n",
    "f.sf(F,2,n_16-k_16)"
   ],
   "outputs": [
    {
     "output_type": "execute_result",
     "data": {
      "text/plain": [
       "0.16323493787837676"
      ]
     },
     "metadata": {},
     "execution_count": 155
    }
   ],
   "metadata": {}
  },
  {
   "cell_type": "markdown",
   "source": [
    "That is the p-value for the coefficients of femgreateduc and femgreatexper to be 0."
   ],
   "metadata": {}
  },
  {
   "cell_type": "code",
   "execution_count": null,
   "source": [],
   "outputs": [],
   "metadata": {}
  }
 ],
 "metadata": {
  "interpreter": {
   "hash": "6f624cf1aed7b927ba57838723f60505130df0c4df4fa3d69693c7e5d450a61b"
  },
  "kernelspec": {
   "name": "python3",
   "display_name": "Python 3.7.6 64-bit ('base': conda)"
  },
  "language_info": {
   "name": "python",
   "version": "3.7.6",
   "mimetype": "text/x-python",
   "codemirror_mode": {
    "name": "ipython",
    "version": 3
   },
   "pygments_lexer": "ipython3",
   "nbconvert_exporter": "python",
   "file_extension": ".py"
  }
 },
 "nbformat": 4,
 "nbformat_minor": 2
}