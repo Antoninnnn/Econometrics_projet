{
 "cells": [
  {
   "cell_type": "code",
   "execution_count": 2,
   "source": [
    "import pandas as pd\n",
    "import numpy as np\n",
    "import matplotlib.pyplot as plt"
   ],
   "outputs": [],
   "metadata": {}
  },
  {
   "cell_type": "code",
   "execution_count": 53,
   "source": [
    "from  scipy.stats import f\n",
    "from scipy.stats import t"
   ],
   "outputs": [],
   "metadata": {}
  },
  {
   "cell_type": "code",
   "execution_count": 16,
   "source": [
    "import statsmodels.api as sm "
   ],
   "outputs": [],
   "metadata": {}
  },
  {
   "cell_type": "markdown",
   "source": [
    "# Question 1"
   ],
   "metadata": {}
  },
  {
   "cell_type": "code",
   "execution_count": 3,
   "source": [
    "import dataloader_p2 as dt_p2"
   ],
   "outputs": [],
   "metadata": {}
  },
  {
   "cell_type": "code",
   "execution_count": 4,
   "source": [
    "dt_p2.quarterly"
   ],
   "outputs": [
    {
     "output_type": "execute_result",
     "data": {
      "text/html": [
       "<div>\n",
       "<style scoped>\n",
       "    .dataframe tbody tr th:only-of-type {\n",
       "        vertical-align: middle;\n",
       "    }\n",
       "\n",
       "    .dataframe tbody tr th {\n",
       "        vertical-align: top;\n",
       "    }\n",
       "\n",
       "    .dataframe thead th {\n",
       "        text-align: right;\n",
       "    }\n",
       "</style>\n",
       "<table border=\"1\" class=\"dataframe\">\n",
       "  <thead>\n",
       "    <tr style=\"text-align: right;\">\n",
       "      <th></th>\n",
       "      <th>DATE</th>\n",
       "      <th>FFR</th>\n",
       "      <th>Tbill</th>\n",
       "      <th>Tb1yr</th>\n",
       "      <th>r5</th>\n",
       "      <th>r10</th>\n",
       "      <th>PPINSA</th>\n",
       "      <th>Finished</th>\n",
       "      <th>CPI</th>\n",
       "      <th>CPICORE</th>\n",
       "      <th>M1NSA</th>\n",
       "      <th>M2SA</th>\n",
       "      <th>M2NSA</th>\n",
       "      <th>Unemp</th>\n",
       "      <th>IndProd</th>\n",
       "      <th>RGDP</th>\n",
       "      <th>Potent</th>\n",
       "      <th>Deflator</th>\n",
       "      <th>Curr</th>\n",
       "    </tr>\n",
       "  </thead>\n",
       "  <tbody>\n",
       "    <tr>\n",
       "      <th>0</th>\n",
       "      <td>1960Q1</td>\n",
       "      <td>3.93</td>\n",
       "      <td>3.87</td>\n",
       "      <td>4.57</td>\n",
       "      <td>4.64</td>\n",
       "      <td>4.49</td>\n",
       "      <td>31.67</td>\n",
       "      <td>33.20</td>\n",
       "      <td>29.40</td>\n",
       "      <td>18.92</td>\n",
       "      <td>140.53</td>\n",
       "      <td>896.1</td>\n",
       "      <td>299.40</td>\n",
       "      <td>5.13</td>\n",
       "      <td>23.93</td>\n",
       "      <td>2845.3</td>\n",
       "      <td>2824.2</td>\n",
       "      <td>18.521</td>\n",
       "      <td>31.830</td>\n",
       "    </tr>\n",
       "    <tr>\n",
       "      <th>1</th>\n",
       "      <td>1960Q2</td>\n",
       "      <td>3.70</td>\n",
       "      <td>2.99</td>\n",
       "      <td>3.87</td>\n",
       "      <td>4.30</td>\n",
       "      <td>4.26</td>\n",
       "      <td>31.73</td>\n",
       "      <td>33.40</td>\n",
       "      <td>29.57</td>\n",
       "      <td>19.00</td>\n",
       "      <td>138.40</td>\n",
       "      <td>903.3</td>\n",
       "      <td>300.03</td>\n",
       "      <td>5.23</td>\n",
       "      <td>23.41</td>\n",
       "      <td>2832.0</td>\n",
       "      <td>2851.2</td>\n",
       "      <td>18.579</td>\n",
       "      <td>31.862</td>\n",
       "    </tr>\n",
       "    <tr>\n",
       "      <th>2</th>\n",
       "      <td>1960Q3</td>\n",
       "      <td>2.94</td>\n",
       "      <td>2.36</td>\n",
       "      <td>3.07</td>\n",
       "      <td>3.67</td>\n",
       "      <td>3.83</td>\n",
       "      <td>31.63</td>\n",
       "      <td>33.43</td>\n",
       "      <td>29.59</td>\n",
       "      <td>19.07</td>\n",
       "      <td>139.60</td>\n",
       "      <td>919.4</td>\n",
       "      <td>305.50</td>\n",
       "      <td>5.53</td>\n",
       "      <td>23.02</td>\n",
       "      <td>2836.6</td>\n",
       "      <td>2878.7</td>\n",
       "      <td>18.648</td>\n",
       "      <td>32.217</td>\n",
       "    </tr>\n",
       "    <tr>\n",
       "      <th>3</th>\n",
       "      <td>1960Q4</td>\n",
       "      <td>2.30</td>\n",
       "      <td>2.31</td>\n",
       "      <td>2.99</td>\n",
       "      <td>3.75</td>\n",
       "      <td>3.89</td>\n",
       "      <td>31.70</td>\n",
       "      <td>33.67</td>\n",
       "      <td>29.78</td>\n",
       "      <td>19.14</td>\n",
       "      <td>142.67</td>\n",
       "      <td>932.8</td>\n",
       "      <td>312.30</td>\n",
       "      <td>6.27</td>\n",
       "      <td>22.47</td>\n",
       "      <td>2800.2</td>\n",
       "      <td>2906.7</td>\n",
       "      <td>18.700</td>\n",
       "      <td>32.624</td>\n",
       "    </tr>\n",
       "    <tr>\n",
       "      <th>4</th>\n",
       "      <td>1961Q1</td>\n",
       "      <td>2.00</td>\n",
       "      <td>2.35</td>\n",
       "      <td>2.87</td>\n",
       "      <td>3.64</td>\n",
       "      <td>3.79</td>\n",
       "      <td>31.80</td>\n",
       "      <td>33.63</td>\n",
       "      <td>29.84</td>\n",
       "      <td>19.17</td>\n",
       "      <td>142.23</td>\n",
       "      <td>948.9</td>\n",
       "      <td>317.10</td>\n",
       "      <td>6.80</td>\n",
       "      <td>22.13</td>\n",
       "      <td>2816.9</td>\n",
       "      <td>2934.8</td>\n",
       "      <td>18.743</td>\n",
       "      <td>32.073</td>\n",
       "    </tr>\n",
       "    <tr>\n",
       "      <th>...</th>\n",
       "      <td>...</td>\n",
       "      <td>...</td>\n",
       "      <td>...</td>\n",
       "      <td>...</td>\n",
       "      <td>...</td>\n",
       "      <td>...</td>\n",
       "      <td>...</td>\n",
       "      <td>...</td>\n",
       "      <td>...</td>\n",
       "      <td>...</td>\n",
       "      <td>...</td>\n",
       "      <td>...</td>\n",
       "      <td>...</td>\n",
       "      <td>...</td>\n",
       "      <td>...</td>\n",
       "      <td>...</td>\n",
       "      <td>...</td>\n",
       "      <td>...</td>\n",
       "      <td>...</td>\n",
       "    </tr>\n",
       "    <tr>\n",
       "      <th>207</th>\n",
       "      <td>2011Q4</td>\n",
       "      <td>0.07</td>\n",
       "      <td>0.01</td>\n",
       "      <td>0.11</td>\n",
       "      <td>0.95</td>\n",
       "      <td>2.05</td>\n",
       "      <td>200.77</td>\n",
       "      <td>192.97</td>\n",
       "      <td>226.97</td>\n",
       "      <td>112.50</td>\n",
       "      <td>2165.77</td>\n",
       "      <td>28787.3</td>\n",
       "      <td>9599.47</td>\n",
       "      <td>8.67</td>\n",
       "      <td>95.33</td>\n",
       "      <td>13441.0</td>\n",
       "      <td>14255.9</td>\n",
       "      <td>113.987</td>\n",
       "      <td>1055.496</td>\n",
       "    </tr>\n",
       "    <tr>\n",
       "      <th>208</th>\n",
       "      <td>2012Q1</td>\n",
       "      <td>0.10</td>\n",
       "      <td>0.07</td>\n",
       "      <td>0.16</td>\n",
       "      <td>0.90</td>\n",
       "      <td>2.04</td>\n",
       "      <td>202.17</td>\n",
       "      <td>193.73</td>\n",
       "      <td>228.27</td>\n",
       "      <td>113.12</td>\n",
       "      <td>2213.97</td>\n",
       "      <td>29238.6</td>\n",
       "      <td>9777.03</td>\n",
       "      <td>8.27</td>\n",
       "      <td>96.70</td>\n",
       "      <td>13506.4</td>\n",
       "      <td>14317.4</td>\n",
       "      <td>114.599</td>\n",
       "      <td>1082.519</td>\n",
       "    </tr>\n",
       "    <tr>\n",
       "      <th>209</th>\n",
       "      <td>2012Q2</td>\n",
       "      <td>0.15</td>\n",
       "      <td>0.09</td>\n",
       "      <td>0.19</td>\n",
       "      <td>0.79</td>\n",
       "      <td>1.82</td>\n",
       "      <td>201.80</td>\n",
       "      <td>192.83</td>\n",
       "      <td>228.84</td>\n",
       "      <td>113.60</td>\n",
       "      <td>2258.30</td>\n",
       "      <td>29611.6</td>\n",
       "      <td>9888.97</td>\n",
       "      <td>8.17</td>\n",
       "      <td>97.27</td>\n",
       "      <td>13548.5</td>\n",
       "      <td>14379.3</td>\n",
       "      <td>115.035</td>\n",
       "      <td>1104.500</td>\n",
       "    </tr>\n",
       "    <tr>\n",
       "      <th>210</th>\n",
       "      <td>2012Q3</td>\n",
       "      <td>0.14</td>\n",
       "      <td>0.10</td>\n",
       "      <td>0.18</td>\n",
       "      <td>0.67</td>\n",
       "      <td>1.64</td>\n",
       "      <td>202.40</td>\n",
       "      <td>195.20</td>\n",
       "      <td>230.03</td>\n",
       "      <td>113.91</td>\n",
       "      <td>2326.47</td>\n",
       "      <td>30251.4</td>\n",
       "      <td>10029.87</td>\n",
       "      <td>8.03</td>\n",
       "      <td>97.39</td>\n",
       "      <td>13652.5</td>\n",
       "      <td>14441.9</td>\n",
       "      <td>115.810</td>\n",
       "      <td>1119.187</td>\n",
       "    </tr>\n",
       "    <tr>\n",
       "      <th>211</th>\n",
       "      <td>2012Q4</td>\n",
       "      <td>0.16</td>\n",
       "      <td>0.09</td>\n",
       "      <td>0.17</td>\n",
       "      <td>0.69</td>\n",
       "      <td>1.71</td>\n",
       "      <td>202.27</td>\n",
       "      <td>196.20</td>\n",
       "      <td>231.28</td>\n",
       "      <td>114.18</td>\n",
       "      <td>2436.73</td>\n",
       "      <td>30938.8</td>\n",
       "      <td>10319.60</td>\n",
       "      <td>7.83</td>\n",
       "      <td>98.01</td>\n",
       "      <td>13665.4</td>\n",
       "      <td>14505.4</td>\n",
       "      <td>116.089</td>\n",
       "      <td>1147.623</td>\n",
       "    </tr>\n",
       "  </tbody>\n",
       "</table>\n",
       "<p>212 rows × 19 columns</p>\n",
       "</div>"
      ],
      "text/plain": [
       "       DATE   FFR  Tbill  Tb1yr    r5   r10  PPINSA  Finished     CPI  \\\n",
       "0    1960Q1  3.93   3.87   4.57  4.64  4.49   31.67     33.20   29.40   \n",
       "1    1960Q2  3.70   2.99   3.87  4.30  4.26   31.73     33.40   29.57   \n",
       "2    1960Q3  2.94   2.36   3.07  3.67  3.83   31.63     33.43   29.59   \n",
       "3    1960Q4  2.30   2.31   2.99  3.75  3.89   31.70     33.67   29.78   \n",
       "4    1961Q1  2.00   2.35   2.87  3.64  3.79   31.80     33.63   29.84   \n",
       "..      ...   ...    ...    ...   ...   ...     ...       ...     ...   \n",
       "207  2011Q4  0.07   0.01   0.11  0.95  2.05  200.77    192.97  226.97   \n",
       "208  2012Q1  0.10   0.07   0.16  0.90  2.04  202.17    193.73  228.27   \n",
       "209  2012Q2  0.15   0.09   0.19  0.79  1.82  201.80    192.83  228.84   \n",
       "210  2012Q3  0.14   0.10   0.18  0.67  1.64  202.40    195.20  230.03   \n",
       "211  2012Q4  0.16   0.09   0.17  0.69  1.71  202.27    196.20  231.28   \n",
       "\n",
       "     CPICORE    M1NSA     M2SA     M2NSA  Unemp  IndProd     RGDP   Potent  \\\n",
       "0      18.92   140.53    896.1    299.40   5.13    23.93   2845.3   2824.2   \n",
       "1      19.00   138.40    903.3    300.03   5.23    23.41   2832.0   2851.2   \n",
       "2      19.07   139.60    919.4    305.50   5.53    23.02   2836.6   2878.7   \n",
       "3      19.14   142.67    932.8    312.30   6.27    22.47   2800.2   2906.7   \n",
       "4      19.17   142.23    948.9    317.10   6.80    22.13   2816.9   2934.8   \n",
       "..       ...      ...      ...       ...    ...      ...      ...      ...   \n",
       "207   112.50  2165.77  28787.3   9599.47   8.67    95.33  13441.0  14255.9   \n",
       "208   113.12  2213.97  29238.6   9777.03   8.27    96.70  13506.4  14317.4   \n",
       "209   113.60  2258.30  29611.6   9888.97   8.17    97.27  13548.5  14379.3   \n",
       "210   113.91  2326.47  30251.4  10029.87   8.03    97.39  13652.5  14441.9   \n",
       "211   114.18  2436.73  30938.8  10319.60   7.83    98.01  13665.4  14505.4   \n",
       "\n",
       "     Deflator      Curr  \n",
       "0      18.521    31.830  \n",
       "1      18.579    31.862  \n",
       "2      18.648    32.217  \n",
       "3      18.700    32.624  \n",
       "4      18.743    32.073  \n",
       "..        ...       ...  \n",
       "207   113.987  1055.496  \n",
       "208   114.599  1082.519  \n",
       "209   115.035  1104.500  \n",
       "210   115.810  1119.187  \n",
       "211   116.089  1147.623  \n",
       "\n",
       "[212 rows x 19 columns]"
      ]
     },
     "metadata": {},
     "execution_count": 4
    }
   ],
   "metadata": {}
  },
  {
   "cell_type": "markdown",
   "source": [
    "# Question 2"
   ],
   "metadata": {}
  },
  {
   "cell_type": "code",
   "execution_count": 6,
   "source": [
    "CPI = dt_p2.quarterly.CPI\n",
    "year = pd.to_datetime(dt_p2.quarterly.DATE)\n",
    "n = len(CPI)"
   ],
   "outputs": [],
   "metadata": {}
  },
  {
   "cell_type": "code",
   "execution_count": 10,
   "source": [
    "inf = []\n",
    "for i in range(1,n):\n",
    "    inter = (CPI[i] - CPI[i-1])/CPI[i-1]\n",
    "    inf.append(inter)"
   ],
   "outputs": [],
   "metadata": {}
  },
  {
   "cell_type": "code",
   "execution_count": 11,
   "source": [
    "plt.plot(year[1:n],inf)\n",
    "plt.xlabel('years')\n",
    "plt.ylabel('taux')\n",
    "plt.title('taux de CPI dans les annees')\n",
    "plt.show()"
   ],
   "outputs": [
    {
     "output_type": "display_data",
     "data": {
      "image/png": "[encoded data removed]",
      "text/plain": [
       "<Figure size 432x288 with 1 Axes>"
      ]
     },
     "metadata": {
      "needs_background": "light"
     }
    }
   ],
   "metadata": {}
  },
  {
   "cell_type": "markdown",
   "source": [
    "Comment:\n",
    "\n",
    "We see that the inflation rate is usually positive, except for the significant year 2008, which is the time for the global financial crisis. The inflation rate held comparatively high during 1970s and 1980s, and is comparatively stable in 1960s and 1990s."
   ],
   "metadata": {}
  },
  {
   "cell_type": "markdown",
   "source": [
    "# Question 3"
   ],
   "metadata": {}
  },
  {
   "cell_type": "code",
   "execution_count": 52,
   "source": [
    "from statsmodels.tsa.stattools import acf\n",
    "from statsmodels.tsa.stattools import pacf\n",
    "from statsmodels.graphics.tsaplots import plot_acf\n",
    "from statsmodels.graphics.tsaplots import plot_pacf\n",
    "plot_acf(np.array(inf))\n",
    "plt.show()\n",
    "plot_pacf(np.array(inf))\n",
    "plt.show()"
   ],
   "outputs": [
    {
     "output_type": "display_data",
     "data": {
      "image/png": "[encoded data removed]",
      "text/plain": [
       "<Figure size 432x288 with 1 Axes>"
      ]
     },
     "metadata": {
      "needs_background": "light"
     }
    },
    {
     "output_type": "display_data",
     "data": {
      "image/png": "[encoded data removed]",
      "text/plain": [
       "<Figure size 432x288 with 1 Axes>"
      ]
     },
     "metadata": {
      "needs_background": "light"
     }
    }
   ],
   "metadata": {}
  },
  {
   "cell_type": "markdown",
   "source": [
    "Comment:\n",
    "\n",
    "The autocorrelation graph shows that the autocorrelation diminues with time(delay), while the partial autocorrelation oscillates around 0. And we can deduce from these two figures that the past data pose an influence on the future data in terms of inflation rate.\n",
    "\n",
    "The autocorrelation presents the influence of a series at time t-x in the past on the value of the series at time t, independent of the rest of the observations. The partial autocorrelation presents the influence of all of all the value in the past until time t-x. Thus, we identify the joint effects of the different years."
   ],
   "metadata": {}
  },
  {
   "cell_type": "markdown",
   "source": [
    "# Question 4"
   ],
   "metadata": {}
  },
  {
   "cell_type": "markdown",
   "source": [
    "The stationarity means that the distribution of data is periodic. The ergodicity means that the limit of a dataset is independent with the starting point of analysis. \n",
    "\n",
    "These two conditions are suffisante for applying the ergodicity thereom, which proposes that the time average is equal to the spatial average of one dataset. Thus, a single trajectory makes it possible to analyze the stochastic process."
   ],
   "metadata": {}
  },
  {
   "cell_type": "markdown",
   "source": [
    "# Question 5"
   ],
   "metadata": {}
  },
  {
   "cell_type": "code",
   "execution_count": 12,
   "source": [
    "import statsmodels.tsa.api as smt"
   ],
   "outputs": [],
   "metadata": {}
  },
  {
   "cell_type": "code",
   "execution_count": 14,
   "source": [
    "minf = smt.AR(inf).fit(maxlag = 4)\n",
    "print(minf.params)\n",
    "print(minf.aic)\n",
    "print(minf.bic)"
   ],
   "outputs": [
    {
     "output_type": "stream",
     "name": "stdout",
     "text": [
      "[ 0.00149584  0.60377471 -0.02700434  0.33513437 -0.06041087]\n",
      "-10.662277978959965\n",
      "-10.565677434227636\n"
     ]
    }
   ],
   "metadata": {}
  },
  {
   "cell_type": "markdown",
   "source": [
    "[ 0.00149584  0.60377471 -0.02700434  0.33513437 -0.06041087] is the coeficient result for different delays"
   ],
   "metadata": {}
  },
  {
   "cell_type": "code",
   "execution_count": null,
   "source": [],
   "outputs": [],
   "metadata": {}
  },
  {
   "cell_type": "markdown",
   "source": [
    "# Question 6"
   ],
   "metadata": {}
  },
  {
   "cell_type": "code",
   "execution_count": 15,
   "source": [
    "y = dt_p2.quarterly.Unemp[1:]\n",
    "const = np.ones(np.shape(y))\n",
    "X = np.column_stack((const,np.array(inf)))"
   ],
   "outputs": [],
   "metadata": {}
  },
  {
   "cell_type": "code",
   "execution_count": 17,
   "source": [
    "model=sm.OLS(y,X)\n",
    "results = model.fit()\n",
    "print(results.summary())"
   ],
   "outputs": [
    {
     "output_type": "stream",
     "name": "stdout",
     "text": [
      "                            OLS Regression Results                            \n",
      "==============================================================================\n",
      "Dep. Variable:                  Unemp   R-squared:                       0.000\n",
      "Model:                            OLS   Adj. R-squared:                 -0.005\n",
      "Method:                 Least Squares   F-statistic:                   0.01214\n",
      "Date:                Thu, 18 Nov 2021   Prob (F-statistic):              0.912\n",
      "Time:                        10:16:59   Log-Likelihood:                -400.28\n",
      "No. Observations:                 211   AIC:                             804.6\n",
      "Df Residuals:                     209   BIC:                             811.3\n",
      "Df Model:                           1                                         \n",
      "Covariance Type:            nonrobust                                         \n",
      "==============================================================================\n",
      "                 coef    std err          t      P>|t|      [0.025      0.975]\n",
      "------------------------------------------------------------------------------\n",
      "const          6.0708      0.181     33.576      0.000       5.714       6.427\n",
      "x1             1.5908     14.440      0.110      0.912     -26.876      30.058\n",
      "==============================================================================\n",
      "Omnibus:                       13.872   Durbin-Watson:                   0.044\n",
      "Prob(Omnibus):                  0.001   Jarque-Bera (JB):               15.356\n",
      "Skew:                           0.660   Prob(JB):                     0.000463\n",
      "Kurtosis:                       2.937   Cond. No.                         129.\n",
      "==============================================================================\n",
      "\n",
      "Warnings:\n",
      "[1] Standard Errors assume that the covariance matrix of the errors is correctly specified.\n"
     ]
    }
   ],
   "metadata": {}
  },
  {
   "cell_type": "code",
   "execution_count": null,
   "source": [],
   "outputs": [],
   "metadata": {}
  },
  {
   "cell_type": "markdown",
   "source": [
    "# Question 7"
   ],
   "metadata": {}
  },
  {
   "cell_type": "code",
   "execution_count": 18,
   "source": [
    "u = results.resid"
   ],
   "outputs": [],
   "metadata": {}
  },
  {
   "cell_type": "code",
   "execution_count": 19,
   "source": [
    "n = len(u)\n",
    "u_1 = u[0:n-1]\n",
    "const = np.ones(n-1)\n",
    "X = np.column_stack((const,u_1))\n",
    "X = X[:,1]\n",
    "y = u[1:n]\n",
    "model1 = sm.OLS(y,X)\n",
    "results1= model1.fit()\n",
    "print(results1.summary())"
   ],
   "outputs": [
    {
     "output_type": "stream",
     "name": "stdout",
     "text": [
      "                                 OLS Regression Results                                \n",
      "=======================================================================================\n",
      "Dep. Variable:                      y   R-squared (uncentered):                   0.956\n",
      "Model:                            OLS   Adj. R-squared (uncentered):              0.956\n",
      "Method:                 Least Squares   F-statistic:                              4557.\n",
      "Date:                Thu, 18 Nov 2021   Prob (F-statistic):                   6.88e-144\n",
      "Time:                        10:19:13   Log-Likelihood:                         -70.409\n",
      "No. Observations:                 210   AIC:                                      142.8\n",
      "Df Residuals:                     209   BIC:                                      146.2\n",
      "Df Model:                           1                                                  \n",
      "Covariance Type:            nonrobust                                                  \n",
      "==============================================================================\n",
      "                 coef    std err          t      P>|t|      [0.025      0.975]\n",
      "------------------------------------------------------------------------------\n",
      "x1             0.9799      0.015     67.507      0.000       0.951       1.009\n",
      "==============================================================================\n",
      "Omnibus:                       78.916   Durbin-Watson:                   0.666\n",
      "Prob(Omnibus):                  0.000   Jarque-Bera (JB):              244.932\n",
      "Skew:                           1.583   Prob(JB):                     6.51e-54\n",
      "Kurtosis:                       7.239   Cond. No.                         1.00\n",
      "==============================================================================\n",
      "\n",
      "Warnings:\n",
      "[1] Standard Errors assume that the covariance matrix of the errors is correctly specified.\n"
     ]
    }
   ],
   "metadata": {}
  },
  {
   "cell_type": "markdown",
   "source": [
    "p = 0.00 so significant at 1%"
   ],
   "metadata": {}
  },
  {
   "cell_type": "markdown",
   "source": [
    "# Exercice 8"
   ],
   "metadata": {}
  },
  {
   "cell_type": "code",
   "execution_count": 21,
   "source": [
    "rho = results1.params[0]"
   ],
   "outputs": [],
   "metadata": {}
  },
  {
   "cell_type": "code",
   "execution_count": 22,
   "source": [
    "rho"
   ],
   "outputs": [
    {
     "output_type": "execute_result",
     "data": {
      "text/plain": [
       "0.9799237799707919"
      ]
     },
     "metadata": {},
     "execution_count": 22
    }
   ],
   "metadata": {}
  },
  {
   "cell_type": "code",
   "execution_count": 26,
   "source": [
    "transform_u = np.array(u[1:n])-np.array(rho*u_1)"
   ],
   "outputs": [],
   "metadata": {}
  },
  {
   "cell_type": "code",
   "execution_count": 27,
   "source": [
    "transform_u"
   ],
   "outputs": [
    {
     "output_type": "execute_result",
     "data": {
      "text/plain": [
       "array([ 0.2910574 ,  0.71998209,  0.54080329,  0.21831306, -0.21826742,\n",
       "       -0.55181671, -0.5716899 , -0.10842407,  0.03009969, -0.04908591,\n",
       "        0.22750621, -0.04351768, -0.24418532,  0.06409881, -0.11270943,\n",
       "       -0.27805417, -0.21855721, -0.0551484 , -0.09017195, -0.25867576,\n",
       "       -0.32270577, -0.30825422, -0.27620617, -0.08384885, -0.10465518,\n",
       "       -0.11537468,  0.09047356, -0.05037019, -0.08135739,  0.05234925,\n",
       "       -0.21186393, -0.20715641, -0.09681827, -0.17933592, -0.05422412,\n",
       "       -0.02909612,  0.08948554, -0.05336504,  0.54840064,  0.5646513 ,\n",
       "        0.37909726,  0.63482416,  0.10467446, -0.03457728,  0.12522578,\n",
       "       -0.09707271, -0.16414072, -0.07388472, -0.13988025, -0.21438191,\n",
       "       -0.46249157, -0.03189343, -0.1518033 , -0.06476624,  0.32575363,\n",
       "        0.05489685,  0.40982884,  0.95573414,  1.69470617,  0.65840256,\n",
       "       -0.35711698, -0.11979314, -0.51465515, -0.12315006,  0.17865611,\n",
       "        0.07514255, -0.24258836, -0.3402912 , -0.2037997 , -0.21505635,\n",
       "       -0.33220817, -0.33447603,  0.02717985, -0.1314444 , -0.03734028,\n",
       "       -0.185346  ,  0.16087032,  0.09589119,  0.3144889 ,  1.04236626,\n",
       "        0.3881542 , -0.2534267 ,  0.05663826,  0.00699161,  0.01500319,\n",
       "        0.87423654,  0.65460917,  0.64615411,  0.53249898,  0.86895097,\n",
       "       -0.20401282, -0.17091731, -0.67609853, -0.77440335, -0.61755681,\n",
       "       -0.39688005,  0.02820202, -0.10287125, -0.04653831,  0.09326123,\n",
       "       -0.07118028, -0.15380775,  0.02682988,  0.1752486 , -0.19539084,\n",
       "       -0.12353453, -0.22296901, -0.31867897, -0.26517618, -0.16963443,\n",
       "       -0.13278841, -0.24361987, -0.0134391 , -0.15048027, -0.14595959,\n",
       "        0.00464346, -0.00424993,  0.11913595, -0.09547992,  0.0254958 ,\n",
       "        0.34315431,  0.42234876,  0.48584402,  0.24283421,  0.05240877,\n",
       "        0.24472846,  0.29270036,  0.25456165,  0.06043445, -0.23065725,\n",
       "       -0.21194792, -0.03877364, -0.24611405, -0.16129894, -0.04380797,\n",
       "       -0.36118285, -0.20335935, -0.3662406 , -0.17142556,  0.18641771,\n",
       "       -0.00339133, -0.10879242, -0.05577032, -0.04060666, -0.2372441 ,\n",
       "        0.039038  , -0.11092078, -0.24113615, -0.15583877, -0.22492053,\n",
       "       -0.06293614, -0.26094872,  0.09333456, -0.13027761, -0.16150498,\n",
       "       -0.0718274 , -0.07620873, -0.19710664, -0.08447411, -0.13795401,\n",
       "        0.02464013, -0.13860807,  0.28225354,  0.13686122,  0.4028663 ,\n",
       "        0.65065362,  0.18229077,  0.1150543 , -0.10108816,  0.13206225,\n",
       "       -0.01117725,  0.27463192, -0.01318003, -0.29326916, -0.14240892,\n",
       "       -0.10674998, -0.17732328, -0.019977  , -0.13421665, -0.21832526,\n",
       "       -0.1630228 , -0.01332407, -0.25592763, -0.13310359, -0.02987639,\n",
       "       -0.20763335,  0.01496732, -0.0341893 ,  0.14600266,  0.09225157,\n",
       "        0.17637199,  0.30467717,  0.65091824,  0.92900516,  1.39092327,\n",
       "        1.05593713,  0.38860013,  0.3729213 , -0.01351067, -0.12077829,\n",
       "       -0.06475019,  0.09218837, -0.46620773,  0.08757097,  0.03583754,\n",
       "       -0.26557357, -0.35148499, -0.05089247, -0.10223621, -0.16120527])"
      ]
     },
     "metadata": {},
     "execution_count": 27
    }
   ],
   "metadata": {}
  },
  {
   "cell_type": "markdown",
   "source": [
    "# Exercice 9"
   ],
   "metadata": {}
  },
  {
   "cell_type": "code",
   "execution_count": 40,
   "source": [
    "n = len(dt_p2.quarterly.Unemp)\n",
    "y = dt_p2.quarterly.Unemp[1:int((n/2))]\n",
    "const = np.ones(np.shape(y))\n",
    "X = np.column_stack((const,np.array(inf[:int((n/2))-1])))"
   ],
   "outputs": [],
   "metadata": {}
  },
  {
   "cell_type": "code",
   "execution_count": 41,
   "source": [
    "model=sm.OLS(y,X)\n",
    "results = model.fit()\n",
    "print(results.summary())"
   ],
   "outputs": [
    {
     "output_type": "stream",
     "name": "stdout",
     "text": [
      "                            OLS Regression Results                            \n",
      "==============================================================================\n",
      "Dep. Variable:                  Unemp   R-squared:                       0.007\n",
      "Model:                            OLS   Adj. R-squared:                 -0.003\n",
      "Method:                 Least Squares   F-statistic:                    0.7071\n",
      "Date:                Thu, 18 Nov 2021   Prob (F-statistic):              0.402\n",
      "Time:                        10:43:17   Log-Likelihood:                -204.20\n",
      "No. Observations:                 105   AIC:                             412.4\n",
      "Df Residuals:                     103   BIC:                             417.7\n",
      "Df Model:                           1                                         \n",
      "Covariance Type:            nonrobust                                         \n",
      "==============================================================================\n",
      "                 coef    std err          t      P>|t|      [0.025      0.975]\n",
      "------------------------------------------------------------------------------\n",
      "const          5.9377      0.287     20.662      0.000       5.368       6.508\n",
      "x1            15.6225     18.579      0.841      0.402     -21.224      52.469\n",
      "==============================================================================\n",
      "Omnibus:                        3.884   Durbin-Watson:                   0.059\n",
      "Prob(Omnibus):                  0.143   Jarque-Bera (JB):                3.782\n",
      "Skew:                           0.462   Prob(JB):                        0.151\n",
      "Kurtosis:                       2.889   Cond. No.                         111.\n",
      "==============================================================================\n",
      "\n",
      "Warnings:\n",
      "[1] Standard Errors assume that the covariance matrix of the errors is correctly specified.\n"
     ]
    }
   ],
   "metadata": {}
  },
  {
   "cell_type": "code",
   "execution_count": 42,
   "source": [
    "n = len(dt_p2.quarterly.Unemp)\n",
    "y = dt_p2.quarterly.Unemp[int(n/2):]\n",
    "const = np.ones(np.shape(y))\n",
    "X = np.column_stack((const,np.array(inf[int(n/2)-1:])))"
   ],
   "outputs": [],
   "metadata": {}
  },
  {
   "cell_type": "code",
   "execution_count": 43,
   "source": [
    "model=sm.OLS(y,X)\n",
    "results = model.fit()\n",
    "print(results.summary())"
   ],
   "outputs": [
    {
     "output_type": "stream",
     "name": "stdout",
     "text": [
      "                            OLS Regression Results                            \n",
      "==============================================================================\n",
      "Dep. Variable:                  Unemp   R-squared:                       0.031\n",
      "Model:                            OLS   Adj. R-squared:                  0.022\n",
      "Method:                 Least Squares   F-statistic:                     3.315\n",
      "Date:                Thu, 18 Nov 2021   Prob (F-statistic):             0.0715\n",
      "Time:                        10:44:10   Log-Likelihood:                -193.35\n",
      "No. Observations:                 106   AIC:                             390.7\n",
      "Df Residuals:                     104   BIC:                             396.0\n",
      "Df Model:                           1                                         \n",
      "Covariance Type:            nonrobust                                         \n",
      "==============================================================================\n",
      "                 coef    std err          t      P>|t|      [0.025      0.975]\n",
      "------------------------------------------------------------------------------\n",
      "const          6.4269      0.259     24.822      0.000       5.913       6.940\n",
      "x1           -54.4051     29.882     -1.821      0.072    -113.663       4.853\n",
      "==============================================================================\n",
      "Omnibus:                       12.639   Durbin-Watson:                   0.082\n",
      "Prob(Omnibus):                  0.002   Jarque-Bera (JB):               14.065\n",
      "Skew:                           0.890   Prob(JB):                     0.000883\n",
      "Kurtosis:                       3.121   Cond. No.                         203.\n",
      "==============================================================================\n",
      "\n",
      "Warnings:\n",
      "[1] Standard Errors assume that the covariance matrix of the errors is correctly specified.\n"
     ]
    }
   ],
   "metadata": {}
  },
  {
   "cell_type": "markdown",
   "source": [
    "The difference of the coefficient before and after the middle point of time is quite large. Before: 15.6 After:-54.4"
   ],
   "metadata": {}
  },
  {
   "cell_type": "code",
   "execution_count": null,
   "source": [],
   "outputs": [],
   "metadata": {}
  },
  {
   "cell_type": "markdown",
   "source": [
    "# Exercice 10"
   ],
   "metadata": {}
  },
  {
   "cell_type": "markdown",
   "source": [
    "这里不知道题意有没有理解对：删除inflation当前项，而添加inflation的一二三四阶延迟项 此外添加chomage自身的一二三四阶延迟项"
   ],
   "metadata": {}
  },
  {
   "cell_type": "code",
   "execution_count": 44,
   "source": [
    "n =len(dt_p2.quarterly.Unemp)\n",
    "y = dt_p2.quarterly.Unemp[5:n]\n",
    "const = np.ones(np.shape(y))\n",
    "inf_1 = inf[3:n-2]\n",
    "inf_2 = inf[2:n-3]\n",
    "inf_3 = inf[1:n-4]\n",
    "inf_4 = inf[0:n-5]\n",
    "cho_1 = dt_p2.quarterly.Unemp[4:n-1]\n",
    "cho_2 = dt_p2.quarterly.Unemp[3:n-2]\n",
    "cho_3 = dt_p2.quarterly.Unemp[2:n-3]\n",
    "cho_4 = dt_p2.quarterly.Unemp[1:n-4]\n",
    "\n",
    "X = np.column_stack((const,np.array(inf_1),np.array(inf_2),np.array(inf_3),np.array(inf_4),cho_1,cho_2,cho_3,cho_4))"
   ],
   "outputs": [],
   "metadata": {}
  },
  {
   "cell_type": "code",
   "execution_count": 29,
   "source": [
    "len(dt_p2.quarterly.Unemp)"
   ],
   "outputs": [
    {
     "output_type": "execute_result",
     "data": {
      "text/plain": [
       "212"
      ]
     },
     "metadata": {},
     "execution_count": 29
    }
   ],
   "metadata": {}
  },
  {
   "cell_type": "code",
   "execution_count": 30,
   "source": [
    "len(inf)"
   ],
   "outputs": [
    {
     "output_type": "execute_result",
     "data": {
      "text/plain": [
       "211"
      ]
     },
     "metadata": {},
     "execution_count": 30
    }
   ],
   "metadata": {}
  },
  {
   "cell_type": "code",
   "execution_count": 45,
   "source": [
    "model=sm.OLS(y,X)\n",
    "results = model.fit()\n",
    "print(results.summary())"
   ],
   "outputs": [
    {
     "output_type": "stream",
     "name": "stdout",
     "text": [
      "                            OLS Regression Results                            \n",
      "==============================================================================\n",
      "Dep. Variable:                  Unemp   R-squared:                       0.979\n",
      "Model:                            OLS   Adj. R-squared:                  0.978\n",
      "Method:                 Least Squares   F-statistic:                     1145.\n",
      "Date:                Thu, 18 Nov 2021   Prob (F-statistic):          2.80e-161\n",
      "Time:                        10:57:30   Log-Likelihood:                 4.6497\n",
      "No. Observations:                 207   AIC:                             8.701\n",
      "Df Residuals:                     198   BIC:                             38.70\n",
      "Df Model:                           8                                         \n",
      "Covariance Type:            nonrobust                                         \n",
      "==============================================================================\n",
      "                 coef    std err          t      P>|t|      [0.025      0.975]\n",
      "------------------------------------------------------------------------------\n",
      "const          0.1457      0.072      2.014      0.045       0.003       0.288\n",
      "x1             3.1105      3.759      0.827      0.409      -4.303      10.524\n",
      "x2            -2.3578      4.089     -0.577      0.565     -10.421       5.706\n",
      "x3             6.8949      3.989      1.729      0.085      -0.971      14.760\n",
      "x4             1.6329      3.755      0.435      0.664      -5.773       9.039\n",
      "x5             1.5937      0.071     22.383      0.000       1.453       1.734\n",
      "x6            -0.6472      0.134     -4.832      0.000      -0.911      -0.383\n",
      "x7             0.0222      0.135      0.164      0.870      -0.245       0.289\n",
      "x8            -0.0080      0.070     -0.114      0.910      -0.146       0.130\n",
      "==============================================================================\n",
      "Omnibus:                       29.127   Durbin-Watson:                   1.997\n",
      "Prob(Omnibus):                  0.000   Jarque-Bera (JB):               68.886\n",
      "Skew:                           0.625   Prob(JB):                     1.10e-15\n",
      "Kurtosis:                       5.534   Cond. No.                     4.06e+03\n",
      "==============================================================================\n",
      "\n",
      "Warnings:\n",
      "[1] Standard Errors assume that the covariance matrix of the errors is correctly specified.\n",
      "[2] The condition number is large, 4.06e+03. This might indicate that there are\n",
      "strong multicollinearity or other numerical problems.\n"
     ]
    }
   ],
   "metadata": {}
  },
  {
   "cell_type": "code",
   "execution_count": 46,
   "source": [
    "n,k = np.shape(X)\n",
    "u = results.resid\n",
    "SSR10_0 = u.T@u"
   ],
   "outputs": [],
   "metadata": {}
  },
  {
   "cell_type": "code",
   "execution_count": 47,
   "source": [
    "n =len(dt_p2.quarterly.Unemp)\n",
    "y = dt_p2.quarterly.Unemp[5:n]\n",
    "const = np.ones(np.shape(y))\n",
    "\n",
    "cho_1 = dt_p2.quarterly.Unemp[4:n-1]\n",
    "cho_2 = dt_p2.quarterly.Unemp[3:n-2]\n",
    "cho_3 = dt_p2.quarterly.Unemp[2:n-3]\n",
    "cho_4 = dt_p2.quarterly.Unemp[1:n-4]\n",
    "\n",
    "X = np.column_stack((const,cho_1,cho_2,cho_3,cho_4))"
   ],
   "outputs": [],
   "metadata": {}
  },
  {
   "cell_type": "code",
   "execution_count": 48,
   "source": [
    "model=sm.OLS(y,X)\n",
    "results = model.fit()\n",
    "print(results.summary())"
   ],
   "outputs": [
    {
     "output_type": "stream",
     "name": "stdout",
     "text": [
      "                            OLS Regression Results                            \n",
      "==============================================================================\n",
      "Dep. Variable:                  Unemp   R-squared:                       0.977\n",
      "Model:                            OLS   Adj. R-squared:                  0.977\n",
      "Method:                 Least Squares   F-statistic:                     2165.\n",
      "Date:                Thu, 18 Nov 2021   Prob (F-statistic):          1.36e-164\n",
      "Time:                        11:09:35   Log-Likelihood:                -2.9991\n",
      "No. Observations:                 207   AIC:                             16.00\n",
      "Df Residuals:                     202   BIC:                             32.66\n",
      "Df Model:                           4                                         \n",
      "Covariance Type:            nonrobust                                         \n",
      "==============================================================================\n",
      "                 coef    std err          t      P>|t|      [0.025      0.975]\n",
      "------------------------------------------------------------------------------\n",
      "const          0.2157      0.071      3.036      0.003       0.076       0.356\n",
      "x1             1.6459      0.070     23.393      0.000       1.507       1.785\n",
      "x2            -0.6975      0.135     -5.159      0.000      -0.964      -0.431\n",
      "x3             0.0238      0.135      0.177      0.860      -0.241       0.289\n",
      "x4            -0.0078      0.070     -0.112      0.911      -0.145       0.130\n",
      "==============================================================================\n",
      "Omnibus:                       39.770   Durbin-Watson:                   1.996\n",
      "Prob(Omnibus):                  0.000   Jarque-Bera (JB):               83.656\n",
      "Skew:                           0.908   Prob(JB):                     6.83e-19\n",
      "Kurtosis:                       5.530   Cond. No.                         138.\n",
      "==============================================================================\n",
      "\n",
      "Warnings:\n",
      "[1] Standard Errors assume that the covariance matrix of the errors is correctly specified.\n"
     ]
    }
   ],
   "metadata": {}
  },
  {
   "cell_type": "code",
   "execution_count": 49,
   "source": [
    "u = results.resid\n",
    "SSR10_1 = u.T@u"
   ],
   "outputs": [],
   "metadata": {}
  },
  {
   "cell_type": "code",
   "execution_count": 50,
   "source": [
    "SSR10_1"
   ],
   "outputs": [
    {
     "output_type": "execute_result",
     "data": {
      "text/plain": [
       "12.476148169307269"
      ]
     },
     "metadata": {},
     "execution_count": 50
    }
   ],
   "metadata": {}
  },
  {
   "cell_type": "code",
   "execution_count": 51,
   "source": [
    "SSR10_0"
   ],
   "outputs": [
    {
     "output_type": "execute_result",
     "data": {
      "text/plain": [
       "11.587384278415236"
      ]
     },
     "metadata": {},
     "execution_count": 51
    }
   ],
   "metadata": {}
  },
  {
   "cell_type": "code",
   "execution_count": 56,
   "source": [
    "F=((SSR10_1-SSR10_0)/4)/(SSR10_0/(n-k)) \n",
    "f.sf(F,4,n-k)"
   ],
   "outputs": [
    {
     "output_type": "execute_result",
     "data": {
      "text/plain": [
       "0.004547527213252396"
      ]
     },
     "metadata": {},
     "execution_count": 56
    }
   ],
   "metadata": {}
  },
  {
   "cell_type": "markdown",
   "source": [
    "Thus the non-causality of the inflatio on the chomage is verified in the 1% level."
   ],
   "metadata": {}
  },
  {
   "cell_type": "code",
   "execution_count": null,
   "source": [],
   "outputs": [],
   "metadata": {}
  },
  {
   "cell_type": "code",
   "execution_count": null,
   "source": [],
   "outputs": [],
   "metadata": {}
  },
  {
   "cell_type": "markdown",
   "source": [
    "# Exercice 11"
   ],
   "metadata": {}
  },
  {
   "cell_type": "code",
   "execution_count": 57,
   "source": [
    "n =len(dt_p2.quarterly.Unemp)\n",
    "y = dt_p2.quarterly.Unemp[5:n]\n",
    "const = np.ones(np.shape(y))\n",
    "inf_1 = inf[3:n-2]\n",
    "inf_2 = inf[2:n-3]\n",
    "inf_3 = inf[1:n-4]\n",
    "inf_4 = inf[0:n-5]\n",
    "cho_1 = dt_p2.quarterly.Unemp[4:n-1]\n",
    "cho_2 = dt_p2.quarterly.Unemp[3:n-2]\n",
    "cho_3 = dt_p2.quarterly.Unemp[2:n-3]\n",
    "cho_4 = dt_p2.quarterly.Unemp[1:n-4]\n",
    "X = np.column_stack((const,np.array(inf_1),np.array(inf_2),np.array(inf_3),np.array(inf_4),cho_1,cho_2,cho_3,cho_4))"
   ],
   "outputs": [],
   "metadata": {}
  },
  {
   "cell_type": "code",
   "execution_count": 58,
   "source": [
    "model=sm.OLS(y,X)\n",
    "results = model.fit()\n",
    "print(results.summary())"
   ],
   "outputs": [
    {
     "output_type": "stream",
     "name": "stdout",
     "text": [
      "                            OLS Regression Results                            \n",
      "==============================================================================\n",
      "Dep. Variable:                  Unemp   R-squared:                       0.979\n",
      "Model:                            OLS   Adj. R-squared:                  0.978\n",
      "Method:                 Least Squares   F-statistic:                     1145.\n",
      "Date:                Thu, 18 Nov 2021   Prob (F-statistic):          2.80e-161\n",
      "Time:                        11:13:51   Log-Likelihood:                 4.6497\n",
      "No. Observations:                 207   AIC:                             8.701\n",
      "Df Residuals:                     198   BIC:                             38.70\n",
      "Df Model:                           8                                         \n",
      "Covariance Type:            nonrobust                                         \n",
      "==============================================================================\n",
      "                 coef    std err          t      P>|t|      [0.025      0.975]\n",
      "------------------------------------------------------------------------------\n",
      "const          0.1457      0.072      2.014      0.045       0.003       0.288\n",
      "x1             3.1105      3.759      0.827      0.409      -4.303      10.524\n",
      "x2            -2.3578      4.089     -0.577      0.565     -10.421       5.706\n",
      "x3             6.8949      3.989      1.729      0.085      -0.971      14.760\n",
      "x4             1.6329      3.755      0.435      0.664      -5.773       9.039\n",
      "x5             1.5937      0.071     22.383      0.000       1.453       1.734\n",
      "x6            -0.6472      0.134     -4.832      0.000      -0.911      -0.383\n",
      "x7             0.0222      0.135      0.164      0.870      -0.245       0.289\n",
      "x8            -0.0080      0.070     -0.114      0.910      -0.146       0.130\n",
      "==============================================================================\n",
      "Omnibus:                       29.127   Durbin-Watson:                   1.997\n",
      "Prob(Omnibus):                  0.000   Jarque-Bera (JB):               68.886\n",
      "Skew:                           0.625   Prob(JB):                     1.10e-15\n",
      "Kurtosis:                       5.534   Cond. No.                     4.06e+03\n",
      "==============================================================================\n",
      "\n",
      "Warnings:\n",
      "[1] Standard Errors assume that the covariance matrix of the errors is correctly specified.\n",
      "[2] The condition number is large, 4.06e+03. This might indicate that there are\n",
      "strong multicollinearity or other numerical problems.\n"
     ]
    }
   ],
   "metadata": {}
  },
  {
   "cell_type": "code",
   "execution_count": 62,
   "source": [
    "d_inf = (results.params[1],results.params[2],results.params[3],results.params[4])\n",
    "x = (1,2,3,4)\n",
    "plt.bar(x,d_inf)\n",
    "plt.title('effect of lag on inf')\n",
    "plt.xlabel('lag on inf')\n",
    "plt.ylabel('coef')\n",
    "plt.show()"
   ],
   "outputs": [
    {
     "output_type": "display_data",
     "data": {
      "image/png": "[encoded data removed]",
      "text/plain": [
       "<Figure size 432x288 with 1 Axes>"
      ]
     },
     "metadata": {
      "needs_background": "light"
     }
    }
   ],
   "metadata": {}
  },
  {
   "cell_type": "code",
   "execution_count": 63,
   "source": [
    "d_cho = (results.params[5],results.params[6],results.params[7],results.params[8])\n",
    "x = (1,2,3,4)\n",
    "plt.bar(x,d_cho)\n",
    "plt.title('effect of lag on chomage')\n",
    "plt.xlabel('lag on chomage')\n",
    "plt.ylabel('coef')\n",
    "plt.show()"
   ],
   "outputs": [
    {
     "output_type": "display_data",
     "data": {
      "image/png": "[encoded data removed]",
      "text/plain": [
       "<Figure size 432x288 with 1 Axes>"
      ]
     },
     "metadata": {
      "needs_background": "light"
     }
    }
   ],
   "metadata": {}
  },
  {
   "cell_type": "code",
   "execution_count": 64,
   "source": [
    "n =len(dt_p2.quarterly.Unemp)\n",
    "y = dt_p2.quarterly.Unemp[7:n]\n",
    "const = np.ones(np.shape(y))\n",
    "inf_1 = inf[5:n-2]\n",
    "inf_2 = inf[4:n-3]\n",
    "inf_3 = inf[3:n-4]\n",
    "inf_4 = inf[2:n-5]\n",
    "inf_5 = inf[1:n-6]\n",
    "inf_6 = inf[0:n-7]\n",
    "X = np.column_stack((const,np.array(inf_1),np.array(inf_2),np.array(inf_3),np.array(inf_4),np.array(inf_5),np.array(inf_6)))"
   ],
   "outputs": [],
   "metadata": {}
  },
  {
   "cell_type": "code",
   "execution_count": 65,
   "source": [
    "odel=sm.OLS(y,X)\n",
    "results = model.fit()\n",
    "print(results.summary())"
   ],
   "outputs": [
    {
     "output_type": "stream",
     "name": "stdout",
     "text": [
      "                            OLS Regression Results                            \n",
      "==============================================================================\n",
      "Dep. Variable:                  Unemp   R-squared:                       0.979\n",
      "Model:                            OLS   Adj. R-squared:                  0.978\n",
      "Method:                 Least Squares   F-statistic:                     1145.\n",
      "Date:                Thu, 18 Nov 2021   Prob (F-statistic):          2.80e-161\n",
      "Time:                        11:22:34   Log-Likelihood:                 4.6497\n",
      "No. Observations:                 207   AIC:                             8.701\n",
      "Df Residuals:                     198   BIC:                             38.70\n",
      "Df Model:                           8                                         \n",
      "Covariance Type:            nonrobust                                         \n",
      "==============================================================================\n",
      "                 coef    std err          t      P>|t|      [0.025      0.975]\n",
      "------------------------------------------------------------------------------\n",
      "const          0.1457      0.072      2.014      0.045       0.003       0.288\n",
      "x1             3.1105      3.759      0.827      0.409      -4.303      10.524\n",
      "x2            -2.3578      4.089     -0.577      0.565     -10.421       5.706\n",
      "x3             6.8949      3.989      1.729      0.085      -0.971      14.760\n",
      "x4             1.6329      3.755      0.435      0.664      -5.773       9.039\n",
      "x5             1.5937      0.071     22.383      0.000       1.453       1.734\n",
      "x6            -0.6472      0.134     -4.832      0.000      -0.911      -0.383\n",
      "x7             0.0222      0.135      0.164      0.870      -0.245       0.289\n",
      "x8            -0.0080      0.070     -0.114      0.910      -0.146       0.130\n",
      "==============================================================================\n",
      "Omnibus:                       29.127   Durbin-Watson:                   1.997\n",
      "Prob(Omnibus):                  0.000   Jarque-Bera (JB):               68.886\n",
      "Skew:                           0.625   Prob(JB):                     1.10e-15\n",
      "Kurtosis:                       5.534   Cond. No.                     4.06e+03\n",
      "==============================================================================\n",
      "\n",
      "Warnings:\n",
      "[1] Standard Errors assume that the covariance matrix of the errors is correctly specified.\n",
      "[2] The condition number is large, 4.06e+03. This might indicate that there are\n",
      "strong multicollinearity or other numerical problems.\n"
     ]
    }
   ],
   "metadata": {}
  },
  {
   "cell_type": "code",
   "execution_count": 66,
   "source": [
    "d_inf = (results.params[1],results.params[2],results.params[3],results.params[4],results.params[5],results.params[6])\n",
    "x = (1,2,3,4,5,6)\n",
    "plt.bar(x,d_inf)\n",
    "plt.title('effect of lag on inf in the long run')\n",
    "plt.xlabel('lag on inf')\n",
    "plt.ylabel('coef')\n",
    "plt.show()"
   ],
   "outputs": [
    {
     "output_type": "display_data",
     "data": {
      "image/png": "[encoded data removed]",
      "text/plain": [
       "<Figure size 432x288 with 1 Axes>"
      ]
     },
     "metadata": {
      "needs_background": "light"
     }
    }
   ],
   "metadata": {}
  },
  {
   "cell_type": "code",
   "execution_count": null,
   "source": [],
   "outputs": [],
   "metadata": {}
  }
 ],
 "metadata": {
  "interpreter": {
   "hash": "6f624cf1aed7b927ba57838723f60505130df0c4df4fa3d69693c7e5d450a61b"
  },
  "kernelspec": {
   "name": "python3",
   "display_name": "Python 3.7.6 64-bit ('base': conda)"
  },
  "language_info": {
   "codemirror_mode": {
    "name": "ipython",
    "version": 3
   },
   "file_extension": ".py",
   "mimetype": "text/x-python",
   "name": "python",
   "nbconvert_exporter": "python",
   "pygments_lexer": "ipython3",
   "version": "3.7.6"
  }
 },
 "nbformat": 4,
 "nbformat_minor": 2
}